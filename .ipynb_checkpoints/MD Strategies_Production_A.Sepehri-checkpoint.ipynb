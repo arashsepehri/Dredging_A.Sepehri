{
 "cells": [
  {
   "cell_type": "markdown",
   "id": "5822b056",
   "metadata": {},
   "source": [
    "# Production of dredging vessels\n",
    "\n",
    "Trailing Suction Hopper Dredgers (TSHDs) and Water Injection Dredgers (WIDs) are the main vessels used for maintenance dredging in ports and waterways. The efficiency of reallocating/remobilizing sediments by these vessels can be measured by determining the production of these vessels which is the amount of dredged sediments per period of time.\n",
    "\n",
    "In this notebook, a basic simulation is set up to determine the production of TSHDs and WIDs in a simple network. Some properties such as the location of dredging and discharging are added to the project network along with vessel properties.\n",
    "\n",
    "The following steps are taken to conduct the simulation:\n",
    "\n",
    "* Import libraries\n",
    "* Initialise simpy environment\n",
    "* Define object classes\n",
    "* Create objects\n",
    "  * Create sites\n",
    "  * Create vessels\n",
    "  * Create activities\n",
    "* Register processes and run simpy"
   ]
  },
  {
   "cell_type": "markdown",
   "id": "dba7e963",
   "metadata": {},
   "source": [
    "### 0. Importing libraries\n",
    "It starts with importing libraries"
   ]
  },
  {
   "cell_type": "code",
   "execution_count": 1,
   "id": "55f3457b",
   "metadata": {
    "scrolled": true
   },
   "outputs": [
    {
     "data": {
      "text/html": [
       "        <script type=\"text/javascript\">\n",
       "        window.PlotlyConfig = {MathJaxConfig: 'local'};\n",
       "        if (window.MathJax && window.MathJax.Hub && window.MathJax.Hub.Config) {window.MathJax.Hub.Config({SVG: {font: \"STIX-Web\"}});}\n",
       "        if (typeof require !== 'undefined') {\n",
       "        require.undef(\"plotly\");\n",
       "        requirejs.config({\n",
       "            paths: {\n",
       "                'plotly': ['https://cdn.plot.ly/plotly-2.12.1.min']\n",
       "            }\n",
       "        });\n",
       "        require(['plotly'], function(Plotly) {\n",
       "            window._Plotly = Plotly;\n",
       "        });\n",
       "        }\n",
       "        </script>\n",
       "        "
      ]
     },
     "metadata": {},
     "output_type": "display_data"
    }
   ],
   "source": [
    "#packages related to time, space, and id\n",
    "import datetime, time\n",
    "\n",
    "# package(s) related to the simulation (creating the vessel, running the simulation)\n",
    "import simpy\n",
    "import openclsim.core as core\n",
    "import openclsim.model as model\n",
    "import openclsim.plot as plot\n",
    "import openclsim.plugins as plugin\n",
    "\n",
    "# package(s) needed for inspecting the output\n",
    "import pandas as pd\n",
    "\n",
    "# package(s) needed for data handling\n",
    "import pandas as pd\n",
    "import numpy as np\n",
    "import matplotlib.pyplot as plt\n",
    "\n",
    "# package(s) used for creating and geo-locating the graph (spatial libraries)  \n",
    "import shapely.geometry\n",
    "from plotly.offline import init_notebook_mode, iplot\n",
    "import plotly.graph_objs as go\n",
    "\n",
    "init_notebook_mode(connected=True)"
   ]
  },
  {
   "cell_type": "markdown",
   "id": "75d6b9b8",
   "metadata": {},
   "source": [
    "### 1. Initialize simpy Environment"
   ]
  },
  {
   "cell_type": "code",
   "execution_count": 2,
   "id": "34cf6f2e",
   "metadata": {},
   "outputs": [],
   "source": [
    "# setup environment (simulation time needs to match the project starting time)\n",
    "simulation_start  = datetime.datetime(2022, 1, 1, 0, 0)\n",
    "my_env = simpy.Environment(initial_time=simulation_start.timestamp())"
   ]
  },
  {
   "cell_type": "markdown",
   "id": "26c1615f",
   "metadata": {},
   "source": [
    "### 2. Define Object classes"
   ]
  },
  {
   "cell_type": "code",
   "execution_count": 3,
   "id": "1263ef60",
   "metadata": {},
   "outputs": [],
   "source": [
    "# create a site object based on desired mixin classes\n",
    "Site = type(\n",
    "    \"Site\",\n",
    "    (\n",
    "        core.Identifiable,\n",
    "        core.Log,\n",
    "        core.Locatable,\n",
    "        core.HasContainer,\n",
    "        core.HasResource\n",
    "    ),\n",
    "    {})\n",
    "\n",
    "\n",
    "# create a TransportProcessingResource object based on desired mixin classes\n",
    "TransportProcessingResource = type(\n",
    "    \"TransportProcessingResource\",\n",
    "    (\n",
    "        core.Identifiable,\n",
    "        core.Log,\n",
    "        core.ContainerDependentMovable,\n",
    "        core.Processor,\n",
    "        core.HasResource,\n",
    "        core.LoadingFunction,\n",
    "        core.UnloadingFunction\n",
    "    ),\n",
    "    {})"
   ]
  },
  {
   "cell_type": "markdown",
   "id": "74a76724",
   "metadata": {},
   "source": [
    "### 3. Create Objects"
   ]
  },
  {
   "cell_type": "markdown",
   "id": "91a31481",
   "metadata": {},
   "source": [
    "#### 3.1. Create site objects"
   ]
  },
  {
   "cell_type": "code",
   "execution_count": 4,
   "id": "4fe740aa",
   "metadata": {},
   "outputs": [],
   "source": [
    "# prepare input data for from_site\n",
    "location_from_site = shapely.geometry.Point(1.1950, 104.1036)\n",
    "data_from_site = {\"env\": my_env,\n",
    "                  \"name\": \"from_site\",\n",
    "                  \"geometry\": location_from_site,\n",
    "                  \"capacity\": 5000000,\n",
    "                  \"level\": 4000000\n",
    "                 }\n",
    "# instantiate from_site \n",
    "from_site = Site(**data_from_site)\n",
    "\n",
    "# prepare input data for to_site\n",
    "location_to_site = shapely.geometry.Point(1.2131, 104.1434)\n",
    "data_to_site = {\"env\": my_env,\n",
    "                \"name\": \"to_site\",\n",
    "                \"geometry\": location_to_site,\n",
    "                \"capacity\": 7000000,\n",
    "                \"level\": 500000\n",
    "               }\n",
    "# instantiate to_site \n",
    "to_site = Site(**data_to_site)"
   ]
  },
  {
   "cell_type": "markdown",
   "id": "84839ba6",
   "metadata": {},
   "source": [
    "#### 3.2. Create vessel object(s)"
   ]
  },
  {
   "cell_type": "code",
   "execution_count": 5,
   "id": "1ca6f6f7",
   "metadata": {},
   "outputs": [],
   "source": [
    "# prepare input data for sagarmanthan (WID), ham311 (TSHD), and asia(TSHD)\n",
    "data_sagarmanthan = {\"env\": my_env,\n",
    "                     \"name\": \"sagarmanthan\",\n",
    "                     \"geometry\": location_from_site,\n",
    "                     \"loading_rate\": 0,\n",
    "                     \"unloading_rate\": 0,\n",
    "                     \"capacity\": 0,\n",
    "                     \"compute_v\": 0.8}\n",
    "\n",
    "data_ham311 = {\"env\": my_env,\n",
    "                     \"name\": \"ham311\",\n",
    "                     \"geometry\": location_from_site,\n",
    "                     \"loading_rate\": 10,\n",
    "                     \"unloading_rate\": 20,\n",
    "                     \"capacity\": 3700,\n",
    "                     \"compute_v\": lambda x: 11.5}\n",
    "\n",
    "data_asia = {\"env\": my_env,\n",
    "                     \"name\": \"asia\",\n",
    "                     \"geometry\": location_from_site,\n",
    "                     \"loading_rate\": 20,\n",
    "                     \"unloading_rate\": 50,\n",
    "                     \"capacity\": 11000,\n",
    "                     \"compute_v\": lambda x: 16}\n",
    "\n",
    "# instantiate sagarmanthan\n",
    "sagarmanthan = TransportProcessingResource(**data_sagarmanthan)\n",
    "ham311 = TransportProcessingResource(**data_ham311)\n",
    "asia = TransportProcessingResource(**data_asia)"
   ]
  },
  {
   "cell_type": "markdown",
   "id": "f06a99f7",
   "metadata": {},
   "source": [
    "#### 3.3. Create activity/activities"
   ]
  },
  {
   "cell_type": "code",
   "execution_count": 6,
   "id": "c17cd00a",
   "metadata": {},
   "outputs": [],
   "source": [
    "# initialise registry\n",
    "registry = {}"
   ]
  },
  {
   "cell_type": "code",
   "execution_count": 7,
   "id": "410dd406",
   "metadata": {},
   "outputs": [],
   "source": [
    "# create a list of the sub processes for HAM311\n",
    "sub_processes = [\n",
    "    model.BasicActivity(\n",
    "        env=my_env,\n",
    "        name=\"basic activity\",\n",
    "        registry=registry,\n",
    "        duration=0,\n",
    "        additional_logs=[ham311]\n",
    "    ),\n",
    "    model.BasicActivity(\n",
    "        env=my_env,\n",
    "        name=\"basic activity\",\n",
    "        registry=registry,\n",
    "        duration=0,\n",
    "        additional_logs=[asia],\n",
    "    )]\n",
    "        \n",
    "# create a 'sequential activity' that is made up of the 'sub_processes'\n",
    "sequential_activity = model.SequentialActivity(\n",
    "    env=my_env,\n",
    "    name=\"Sequential activity of basic activities\",\n",
    "    registry=registry,\n",
    "    sub_processes=sub_processes,\n",
    ")"
   ]
  },
  {
   "cell_type": "markdown",
   "id": "91522834",
   "metadata": {},
   "source": [
    "### 4. Register processes and run simpy"
   ]
  },
  {
   "cell_type": "code",
   "execution_count": 8,
   "id": "eb9415ce",
   "metadata": {},
   "outputs": [
    {
     "ename": "AssertionError",
     "evalue": "",
     "output_type": "error",
     "traceback": [
      "\u001b[1;31m---------------------------------------------------------------------------\u001b[0m",
      "\u001b[1;31mAssertionError\u001b[0m                            Traceback (most recent call last)",
      "\u001b[1;32m~\\AppData\\Local\\Temp\\ipykernel_15916\\183911151.py\u001b[0m in \u001b[0;36m<module>\u001b[1;34m\u001b[0m\n\u001b[0;32m      1\u001b[0m \u001b[1;31m# initate the simpy processes defined in the 'while activity' and run simpy\u001b[0m\u001b[1;33m\u001b[0m\u001b[1;33m\u001b[0m\u001b[0m\n\u001b[1;32m----> 2\u001b[1;33m \u001b[0mmodel\u001b[0m\u001b[1;33m.\u001b[0m\u001b[0mregister_processes\u001b[0m\u001b[1;33m(\u001b[0m\u001b[1;33m[\u001b[0m\u001b[0msequential_activity\u001b[0m\u001b[1;33m]\u001b[0m\u001b[1;33m)\u001b[0m\u001b[1;33m\u001b[0m\u001b[1;33m\u001b[0m\u001b[0m\n\u001b[0m\u001b[0;32m      3\u001b[0m \u001b[0mmy_env\u001b[0m\u001b[1;33m.\u001b[0m\u001b[0mrun\u001b[0m\u001b[1;33m(\u001b[0m\u001b[1;33m)\u001b[0m\u001b[1;33m\u001b[0m\u001b[1;33m\u001b[0m\u001b[0m\n",
      "\u001b[1;32m~\\github\\OpenCLSim\\src\\openclsim\\model\\helpers.py\u001b[0m in \u001b[0;36mregister_processes\u001b[1;34m(processes)\u001b[0m\n\u001b[0;32m     23\u001b[0m \u001b[1;33m\u001b[0m\u001b[0m\n\u001b[0;32m     24\u001b[0m     \u001b[0mitem_names\u001b[0m \u001b[1;33m=\u001b[0m \u001b[1;33m[\u001b[0m\u001b[0mi\u001b[0m\u001b[1;33m.\u001b[0m\u001b[0mname\u001b[0m \u001b[1;32mfor\u001b[0m \u001b[0mi\u001b[0m \u001b[1;32min\u001b[0m \u001b[0mitems\u001b[0m\u001b[1;33m]\u001b[0m\u001b[1;33m\u001b[0m\u001b[1;33m\u001b[0m\u001b[0m\n\u001b[1;32m---> 25\u001b[1;33m     \u001b[1;32massert\u001b[0m \u001b[0mlen\u001b[0m\u001b[1;33m(\u001b[0m\u001b[0mitem_names\u001b[0m\u001b[1;33m)\u001b[0m \u001b[1;33m==\u001b[0m \u001b[0mlen\u001b[0m\u001b[1;33m(\u001b[0m\u001b[0mset\u001b[0m\u001b[1;33m(\u001b[0m\u001b[0mitem_names\u001b[0m\u001b[1;33m)\u001b[0m\u001b[1;33m)\u001b[0m\u001b[1;33m\u001b[0m\u001b[1;33m\u001b[0m\u001b[0m\n\u001b[0m\u001b[0;32m     26\u001b[0m \u001b[1;33m\u001b[0m\u001b[0m\n\u001b[0;32m     27\u001b[0m     \u001b[1;32mfor\u001b[0m \u001b[0mitem\u001b[0m \u001b[1;32min\u001b[0m \u001b[0mitems\u001b[0m\u001b[1;33m:\u001b[0m\u001b[1;33m\u001b[0m\u001b[1;33m\u001b[0m\u001b[0m\n",
      "\u001b[1;31mAssertionError\u001b[0m: "
     ]
    }
   ],
   "source": [
    "# initate the simpy processes defined in the 'while activity' and run simpy\n",
    "model.register_processes([sequential_activity])\n",
    "my_env.run()"
   ]
  },
  {
   "cell_type": "markdown",
   "id": "e8a11c4b",
   "metadata": {},
   "source": [
    "### 5. Inspect Results"
   ]
  },
  {
   "cell_type": "markdown",
   "id": "1e2c775b",
   "metadata": {},
   "source": [
    "#### 5.1. Inspect logs\n",
    "The method plot.get_log_dataframe returns the log of an activity in the form of a dataframe. By adding other activities in a list as the second argument, the Activity can be made more human readable."
   ]
  },
  {
   "cell_type": "code",
   "execution_count": null,
   "id": "1291ecf2",
   "metadata": {
    "scrolled": true
   },
   "outputs": [],
   "source": [
    "display(plot.get_log_dataframe(reporting_activity, [*sub_processes, parallel_activity, reporting_activity]))"
   ]
  },
  {
   "cell_type": "markdown",
   "id": "2060586c",
   "metadata": {},
   "source": [
    "#### 5.2. Visualize Gantt Chart"
   ]
  },
  {
   "cell_type": "code",
   "execution_count": null,
   "id": "c4a56eb2",
   "metadata": {
    "scrolled": false
   },
   "outputs": [],
   "source": [
    "plot.get_gantt_chart([while_activity])"
   ]
  },
  {
   "cell_type": "code",
   "execution_count": null,
   "id": "33560354",
   "metadata": {},
   "outputs": [],
   "source": [
    "plot.get_gantt_chart([ham311, from_site, to_site],id_map=[while_activity])"
   ]
  },
  {
   "cell_type": "code",
   "execution_count": null,
   "id": "998fca86",
   "metadata": {},
   "outputs": [],
   "source": [
    "fig = plot.get_step_chart([ham311, from_site, to_site])"
   ]
  },
  {
   "cell_type": "markdown",
   "id": "0f8c41d2",
   "metadata": {},
   "source": [
    "### Production of Trailing Suction Hopper Dredger (TSHD) and Water Injection Dredgers (WID)\n",
    "\n",
    "#### Production of TSHD\n",
    "\n",
    "Production rate of trailing suction hopper dredgers (TSHDs) is a metric for calculating the amount of dredged sediments during a single dredging cycle. The higher the production rate of TSHDs, the less time will be spent for conducting the project. The production of TSHDs varies over time based on the sailing distance to discharging area, capacity of hopper, operational hours, and sediment characteristics.\n",
    "\n",
    "In this notebook, basic parameters related to vessel characteristics and the time required for loading, sailing (full and empty), and unloading are considered.\n",
    "\n",
    "#### Production of WID\n",
    "\n",
    "Production rate of water injection dredgers (WIDs) is a meteric for calculating the amount of sediments washed out from the water column during a single dredging cycle. The production of WIDs is mainly dependent on the penetration depth of the jet bar and the trailing velocity of vessel. Also, the width of jet bar is a determining factor in measuring the production. The overlap between two adjoining dredging tracks is subtracted from jet bar width to estimate the correct rate of production.\n",
    "\n",
    "In this notebook, basic parameters related to vessel characteristics are developed for calculating the production rate.\n",
    "\n",
    "It is assumed that the sediment to be dredged in the system mainly contains soft sediments which is the case for maintenance dredging. Also, the project is perfomed continuously in time. Therefore, the dredging cycle is continouos and the production rate is calculated for each dredging cycle which gives us an insight into comparing the production in different cycles."
   ]
  },
  {
   "cell_type": "code",
   "execution_count": 103,
   "id": "de5db936",
   "metadata": {},
   "outputs": [],
   "source": [
    "class Production:\n",
    "    \"\"\"\n",
    "    \n",
    "    Mixin class: These parameters are used to estimate the production of vessels (TSHD and WID)\n",
    "    type: can contain info on vessel type (TSHD or WID) [-]\n",
    "    \n",
    "    for TSHDs we have:\n",
    "    h: hopper capacity [m^3]\n",
    "    f_e: proportion of hopper that is filled [m^3]\n",
    "    b: bulking factor [-]\n",
    "    t_l: time required for loading [h]\n",
    "    t_t: time required for turning [h]\n",
    "    t_se: time required for sailing empty [h]\n",
    "    t_sf: time required for sailing full [h]\n",
    "    t_d: time required for discharging [h]\n",
    "    t_180: time required to turn the dredger around 180 degrees\n",
    "    t_tot: total time required for a single dredging cycle [h]\n",
    "    n_t: number of turns for vessel in a dredging cycle [-]\n",
    "    sg_s: specific gravity of slurry [m/s^2]\n",
    "    sg_so: specific gravity of solid [m/s^2]\n",
    "    sg_f: specific gravity of fluid [m/s^2]\n",
    "    q: optimal rate of flow in the hopper [m^3/h]\n",
    "    dist: distance from dredging site to discharging site [km]\n",
    "    l_d: length of the dredging area [km]\n",
    "    v_se: velocity of vessel when sailing empty [knots]\n",
    "    v_sf: velocity of vessel when sailing full [knots]\n",
    "    prod_TSHD: total production of TSHD [m^3/h]\n",
    "    \n",
    "    for WIDs we have:\n",
    "    v_t: trailing velocity [knots]\n",
    "    j_w: jet bar width [m]\n",
    "    o: overlap between two adjoining dredging tracks [m]\n",
    "    pen_d: penetration depth [m]\n",
    "    prod_WID: total production of WID [m^3/h]\n",
    "    v_line: flow velocity in line [m/s]\n",
    "    d_nozzle: nozzle diameter [m]\n",
    "    p_nozzle: nozzle pressure [KPa]\n",
    "    P_loss: nozzle pressure losses {KPa}\n",
    "    s_u: undrained shear strength (kPa)\n",
    "    den_w: water density [Kg/m^3]\n",
    "    \n",
    "    Add information on possible restrictions to the vessels, i.e. height, width, etc.\n",
    "    \"\"\"\n",
    "    \n",
    "    def __init__(\n",
    "        self, \n",
    "        type_vessel,\n",
    "        h,\n",
    "        f_e,   \n",
    "        b,\n",
    "        t_l,\n",
    "        t_t,\n",
    "        t_se,\n",
    "        t_sf,\n",
    "        t_d,\n",
    "        t_180,\n",
    "        t_tot,\n",
    "        n_t,\n",
    "        v_t,\n",
    "        j_w,\n",
    "        o,\n",
    "        pen_d,\n",
    "        sg_s,\n",
    "        sg_so,\n",
    "        sg_f,\n",
    "        q,\n",
    "        dist,\n",
    "        l_d,\n",
    "        v_se,\n",
    "        v_sf,\n",
    "        prod_WID,\n",
    "        d_nozzle,\n",
    "        p_nozzle,\n",
    "        P_loss,\n",
    "        s_u,\n",
    "        den_w,\n",
    "        *args, \n",
    "        **kwargs\n",
    "        ):\n",
    "        super().__init__(*args, **kwargs)\n",
    "\n",
    "        \n",
    "        \"\"\"Initialization\"\"\"\n",
    "        self.type_vessel = type_vessel\n",
    "        self.h = h\n",
    "        self.f_e = f_e \n",
    "        self.b = b \n",
    "        self.t_l = t_l\n",
    "        self.t_t = t_t\n",
    "        self.t_se = t_se\n",
    "        self.t_sf = t_sf\n",
    "        self.t_d = t_d\n",
    "        self.t_180 = t_180\n",
    "        self.t_tot = t_tot\n",
    "        self.n_t = n_t\n",
    "        self.v_t = v_t\n",
    "        self.j_w = j_w\n",
    "        self.o = o\n",
    "        self.pen_d = p_d\n",
    "        self.sg_s = sg_s\n",
    "        self.sg_so = sg_so\n",
    "        self.sg_f = sg_f\n",
    "        self.q = q\n",
    "        self.dist = dist\n",
    "        self.l_d = l_d\n",
    "        self.v_se = v_se\n",
    "        self.v_sf = v_sf\n",
    "        self.prod_WID = prod_WID\n",
    "        self.d_nozzle = d_nozzle\n",
    "        self.p_nozzle = p_nozzle\n",
    "        self.P_loss = P_loss\n",
    "        self.s_u = s_u\n",
    "        self.den_w = den_w"
   ]
  },
  {
   "cell_type": "markdown",
   "id": "3afeb3b4",
   "metadata": {},
   "source": [
    "#### Calculating Trailing Suction Hopper Dredgers production parameters"
   ]
  },
  {
   "cell_type": "code",
   "execution_count": 101,
   "id": "86491548",
   "metadata": {},
   "outputs": [],
   "source": [
    "##The proportion of the hopper that is filled f_e is considered equal to the ratio of solids to the amount of slurry\n",
    "\n",
    "\"\"\"The proportion of hopper that is filled and the dredging cycle time is calculated according to Bray et al. (1997)\"\"\"\n",
    "\n",
    "def calculate_hopper_proportion(self):\n",
    "    \n",
    "    self.f_e = (self.sg_s - self.sg_f) / (self.sg_s - self.sg_f)\n",
    "\n",
    "##Total dredging cycle time comprises of the time required for loading, sailing (empy, full), and discharging \n",
    "\n",
    "def calculate_cycle_time_TSHD(self):\n",
    "    \n",
    "    self.t_l = self.h / self.q\n",
    "    \n",
    "    self.t_t = (self.n_t * self.t_l * self.t_180) / self.l_d\n",
    "    \n",
    "    self.t_se = self.dist / self.v_se\n",
    "    \n",
    "    self.t_sf = self.dist / self.v_sf\n",
    "    \n",
    "    self.t_tot = self.t_l + self.t_t + self.t_se + self.t_sf + self.t_d\n",
    "    \n",
    "def calculate_production_TSHD(self):\n",
    "    \n",
    "    self.calculate_hopper_proportion()\n",
    "    self.calculate_cycle_time_TSHD()\n",
    "    \n",
    "    self.prod = (self.h * self.f_e) / (self.t_tot)"
   ]
  },
  {
   "cell_type": "markdown",
   "id": "b1879540",
   "metadata": {},
   "source": [
    "#### Calculating Water Injection Dredgers production parameters"
   ]
  },
  {
   "cell_type": "code",
   "execution_count": 102,
   "id": "2a441c34",
   "metadata": {},
   "outputs": [],
   "source": [
    "\"\"\"Penetration depth and production of WID is calculated based on (WID Handbook, 2020) and (Machin and Allan, 2011)\"\"\"\n",
    "\n",
    "def calculate_penetration_depth(self):\n",
    "    \n",
    "    self.pen_d = 24 * self.d_n * (self.p_n ^(1/2)) / (self.s_u ^(1/2))\n",
    "    \n",
    "def calculate_trailing_velocity(self):\n",
    "    \n",
    "    self.v_t = ((2 * (p_n - P_l) * 1000) / den_w) ^(1/2)\n",
    "    \n",
    "    \n",
    "\n",
    "\n",
    "def calculate_production_WID(self):\n",
    "    \n",
    "    \n",
    "    \n",
    "    \n",
    "    \n",
    "    self.prod_WID = self.v_t * 1.852 * (self.j_w - self.o) * self.pen_d"
   ]
  },
  {
   "cell_type": "code",
   "execution_count": null,
   "id": "dec21e69",
   "metadata": {},
   "outputs": [],
   "source": []
  }
 ],
 "metadata": {
  "kernelspec": {
   "display_name": "Python 3 (ipykernel)",
   "language": "python",
   "name": "python3"
  },
  "language_info": {
   "codemirror_mode": {
    "name": "ipython",
    "version": 3
   },
   "file_extension": ".py",
   "mimetype": "text/x-python",
   "name": "python",
   "nbconvert_exporter": "python",
   "pygments_lexer": "ipython3",
   "version": "3.9.13"
  }
 },
 "nbformat": 4,
 "nbformat_minor": 5
}
