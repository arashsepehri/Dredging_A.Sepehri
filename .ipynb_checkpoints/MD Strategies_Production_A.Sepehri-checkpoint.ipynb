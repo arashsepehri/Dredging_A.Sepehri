{
 "cells": [
  {
   "cell_type": "markdown",
   "id": "5822b056",
   "metadata": {},
   "source": [
    "# Production of dredging vessels\n",
    "\n",
    "Trailing Suction Hopper Dredgers (TSHDs) and Water Injection Dredgers (WIDs) are the main vessels used for maintenance dredging in ports and waterways. The efficiency of reallocating/remobilizing sediments by these vessels can be measured by determining the production of these vessels which is the amount of dredged sediments per period of time.\n",
    "\n",
    "In this notebook, a basic simulation is set up to determine the production of TSHDs and WIDs in a simple network. Some properties such as the location of dredging and discharging are added to the project network along with vessel properties.\n",
    "\n",
    "The following steps are taken to conduct the simulation:\n",
    "\n",
    "* Import libraries\n",
    "* Initialise simpy environment\n",
    "* Define object classes\n",
    "* Create objects\n",
    "  * Create sites\n",
    "  * Create vessels\n",
    "  * Create activities\n",
    "* Register processes and run simpy"
   ]
  },
  {
   "cell_type": "markdown",
   "id": "dba7e963",
   "metadata": {},
   "source": [
    "### 0. Importing libraries\n",
    "It starts with importing libraries"
   ]
  },
  {
   "cell_type": "code",
   "execution_count": 1,
   "id": "55f3457b",
   "metadata": {},
   "outputs": [
    {
     "data": {
      "text/html": [
       "        <script type=\"text/javascript\">\n",
       "        window.PlotlyConfig = {MathJaxConfig: 'local'};\n",
       "        if (window.MathJax && window.MathJax.Hub && window.MathJax.Hub.Config) {window.MathJax.Hub.Config({SVG: {font: \"STIX-Web\"}});}\n",
       "        if (typeof require !== 'undefined') {\n",
       "        require.undef(\"plotly\");\n",
       "        requirejs.config({\n",
       "            paths: {\n",
       "                'plotly': ['https://cdn.plot.ly/plotly-2.12.1.min']\n",
       "            }\n",
       "        });\n",
       "        require(['plotly'], function(Plotly) {\n",
       "            window._Plotly = Plotly;\n",
       "        });\n",
       "        }\n",
       "        </script>\n",
       "        "
      ]
     },
     "metadata": {},
     "output_type": "display_data"
    }
   ],
   "source": [
    "#packages related to time, space, and id\n",
    "import datetime, time\n",
    "\n",
    "# package(s) related to the simulation (creating the vessel, running the simulation)\n",
    "import simpy\n",
    "import openclsim.core as core\n",
    "import openclsim.model as model\n",
    "import openclsim.plot as plot\n",
    "import openclsim.plugins as plugin\n",
    "\n",
    "# package(s) needed for inspecting the output\n",
    "import pandas as pd\n",
    "\n",
    "# package(s) needed for data handling\n",
    "import pandas as pd\n",
    "import numpy as np\n",
    "import matplotlib.pyplot as plt\n",
    "\n",
    "# package(s) used for creating and geo-locating the graph (spatial libraries)  \n",
    "import shapely.geometry\n",
    "from plotly.offline import init_notebook_mode, iplot\n",
    "import plotly.graph_objs as go\n",
    "\n",
    "init_notebook_mode(connected=True)"
   ]
  },
  {
   "cell_type": "markdown",
   "id": "75d6b9b8",
   "metadata": {},
   "source": [
    "### 1. Initialize simpy Environment"
   ]
  },
  {
   "cell_type": "code",
   "execution_count": 2,
   "id": "34cf6f2e",
   "metadata": {},
   "outputs": [],
   "source": [
    "# setup environment (simulation time needs to match the project starting time)\n",
    "simulation_start  = datetime.datetime(2022, 1, 1, 0, 0)\n",
    "my_env = simpy.Environment(initial_time=simulation_start.timestamp())"
   ]
  },
  {
   "cell_type": "markdown",
   "id": "26c1615f",
   "metadata": {},
   "source": [
    "### 2. Define Object classes"
   ]
  },
  {
   "cell_type": "code",
   "execution_count": 3,
   "id": "1263ef60",
   "metadata": {},
   "outputs": [],
   "source": [
    "# create a site object based on desired mixin classes\n",
    "Site = type(\n",
    "    \"Site\",\n",
    "    (\n",
    "        core.Identifiable,\n",
    "        core.Log,\n",
    "        core.Locatable,\n",
    "        core.HasContainer,\n",
    "        core.HasResource\n",
    "    ),\n",
    "    {})\n",
    "\n",
    "\n",
    "# create a TransportProcessingResource object based on desired mixin classes\n",
    "TransportProcessingResource = type(\n",
    "    \"TransportProcessingResource\",\n",
    "    (\n",
    "        core.Identifiable,\n",
    "        core.Log,\n",
    "        core.ContainerDependentMovable,\n",
    "        core.Processor,\n",
    "        core.HasResource,\n",
    "        core.LoadingFunction,\n",
    "        core.UnloadingFunction\n",
    "    ),\n",
    "    {})"
   ]
  },
  {
   "cell_type": "markdown",
   "id": "74a76724",
   "metadata": {},
   "source": [
    "### 3. Create Objects"
   ]
  },
  {
   "cell_type": "markdown",
   "id": "91a31481",
   "metadata": {},
   "source": [
    "#### 3.1. Create site objects"
   ]
  },
  {
   "cell_type": "code",
   "execution_count": 4,
   "id": "4fe740aa",
   "metadata": {},
   "outputs": [],
   "source": [
    "# prepare input data for from_site\n",
    "location_from_site = shapely.geometry.Point(4.18055556, 52.18664444)\n",
    "data_from_site = {\"env\": my_env,\n",
    "                  \"name\": \"from_site\",\n",
    "                  \"geometry\": location_from_site,\n",
    "                  \"capacity\": 100,\n",
    "                  \"level\": 100}\n",
    "\n",
    "# instantiate from_site\n",
    "from_site = Site(**data_from_site)\n",
    "\n",
    "# prepare input data for to_site\n",
    "location_to_site = shapely.geometry.Point(4.25222222, 52.11428333)\n",
    "data_to_site = {\"env\": my_env,\n",
    "                \"name\": \"to_site\",\n",
    "                \"geometry\": location_to_site,\n",
    "                \"capacity\": 100,\n",
    "                \"level\": 10}\n",
    "\n",
    "# instantiate to_site\n",
    "to_site = Site(**data_to_site)"
   ]
  },
  {
   "cell_type": "markdown",
   "id": "84839ba6",
   "metadata": {},
   "source": [
    "#### 3.2. Create vessel object(s)"
   ]
  },
  {
   "cell_type": "code",
   "execution_count": 5,
   "id": "1ca6f6f7",
   "metadata": {},
   "outputs": [],
   "source": [
    "# prepare input data for sagarmanthan (WID), ham311 (TSHD), and asia(TSHD)\n",
    "data_sagarmanthan = {\"env\": my_env,\n",
    "                     \"name\": \"sagarmanthan\",\n",
    "                     \"geometry\": location_from_site,\n",
    "                     \"loading_rate\": 0,\n",
    "                     \"unloading_rate\": 0,\n",
    "                     \"capacity\": 0,\n",
    "                     \"compute_v\": 0.8}\n",
    "\n",
    "data_ham311 = {\"env\": my_env,\n",
    "                     \"name\": \"ham311\",\n",
    "                     \"geometry\": location_from_site,\n",
    "                     \"loading_rate\": 0.0004,\n",
    "                     \"unloading_rate\": 0.0004,\n",
    "                     \"capacity\": 4,\n",
    "                     \"compute_v\": lambda x: 3}\n",
    "\n",
    "data_asia = {\"env\": my_env,\n",
    "                     \"name\": \"asia\",\n",
    "                     \"geometry\": location_from_site,\n",
    "                     \"loading_rate\": 5,\n",
    "                     \"unloading_rate\": 5,\n",
    "                     \"capacity\": 2,\n",
    "                     \"compute_v\": lambda x: 10}\n",
    "\n",
    "# instantiate sagarmanthan\n",
    "sagarmanthan = TransportProcessingResource(**data_sagarmanthan)\n",
    "ham311 = TransportProcessingResource(**data_ham311)\n",
    "asia = TransportProcessingResource(**data_asia)"
   ]
  },
  {
   "cell_type": "markdown",
   "id": "f06a99f7",
   "metadata": {},
   "source": [
    "#### 3.3. Create activity/activities"
   ]
  },
  {
   "cell_type": "code",
   "execution_count": 6,
   "id": "c17cd00a",
   "metadata": {},
   "outputs": [],
   "source": [
    "# initialise registry\n",
    "registry = {}"
   ]
  },
  {
   "cell_type": "code",
   "execution_count": 7,
   "id": "410dd406",
   "metadata": {},
   "outputs": [],
   "source": [
    "# create a list of the sub processes for HAM311\n",
    "sub_processes = [\n",
    "    model.MoveActivity(\n",
    "        env=my_env,\n",
    "        name=\"sailing empty\",\n",
    "        registry=registry,\n",
    "        mover=ham311,\n",
    "        destination=from_site,\n",
    "    ),\n",
    "    model.ShiftAmountActivity(\n",
    "        env=my_env,\n",
    "        name=\"loading\",\n",
    "        registry=registry,\n",
    "        processor=ham311,\n",
    "        origin=from_site,\n",
    "        destination=ham311,\n",
    "        amount=2,\n",
    "        duration=10,\n",
    "    ),\n",
    "    model.MoveActivity(\n",
    "        env=my_env,\n",
    "        name=\"sailing full\",\n",
    "        registry=registry,\n",
    "        mover=ham311,\n",
    "        destination=to_site,\n",
    "    ),\n",
    "    model.ShiftAmountActivity(\n",
    "        env=my_env,\n",
    "        name=\"unloading\",\n",
    "        registry=registry,\n",
    "        processor=ham311,\n",
    "        origin=ham311,\n",
    "        destination=to_site,\n",
    "        amount=2,\n",
    "        duration=10,\n",
    "    ),\n",
    "    model.BasicActivity(\n",
    "        env=my_env,\n",
    "        name=\"basic activity\",\n",
    "        registry=registry,\n",
    "        duration=0,\n",
    "        additional_logs=[ham311],\n",
    "    ),\n",
    "]\n",
    "\n",
    "# create a list of the sub processes for Asia\n",
    "sub_processes = [\n",
    "    model.MoveActivity(\n",
    "        env=my_env,\n",
    "        name=\"sailing empty\",\n",
    "        registry=registry,\n",
    "        mover=asia,\n",
    "        destination=from_site,\n",
    "    ),\n",
    "    model.ShiftAmountActivity(\n",
    "        env=my_env,\n",
    "        name=\"loading\",\n",
    "        registry=registry,\n",
    "        processor=asia,\n",
    "        origin=from_site,\n",
    "        destination=ham311,\n",
    "        amount=2,\n",
    "        duration=1000,\n",
    "    ),\n",
    "    model.MoveActivity(\n",
    "        env=my_env,\n",
    "        name=\"sailing full\",\n",
    "        registry=registry,\n",
    "        mover=asia,\n",
    "        destination=to_site,\n",
    "    ),\n",
    "    model.ShiftAmountActivity(\n",
    "        env=my_env,\n",
    "        name=\"unloading\",\n",
    "        registry=registry,\n",
    "        processor=asia,\n",
    "        origin=asia,\n",
    "        destination=to_site,\n",
    "        amount=2,\n",
    "        duration=1000,\n",
    "    ),\n",
    "    model.BasicActivity(\n",
    "        env=my_env,\n",
    "        name=\"basic activity\",\n",
    "        registry=registry,\n",
    "        duration=0,\n",
    "        additional_logs=[asia],\n",
    "    ),\n",
    "]\n",
    "\n",
    "\n",
    "# create a 'sequential activity' that is made up of the 'sub_processes'\n",
    "sequential_activity = model.SequentialActivity(\n",
    "        env=my_env,\n",
    "        name=\"sequential\",\n",
    "        registry=registry,\n",
    "        sub_processes=sub_processes,\n",
    "    )\n",
    "\n",
    "# create a while activity that executes the 'sequential activity' while the stop condition is not triggered \n",
    "while_activity = model.WhileActivity(\n",
    "    env=my_env,\n",
    "    name=\"while\",\n",
    "    registry=registry,\n",
    "    sub_processes=[sequential_activity],\n",
    "    condition_event=[{\"type\": \"container\", \"concept\": to_site, \"state\": \"full\"}],\n",
    ")"
   ]
  },
  {
   "cell_type": "markdown",
   "id": "91522834",
   "metadata": {},
   "source": [
    "### 4. Register processes and run simpy"
   ]
  },
  {
   "cell_type": "code",
   "execution_count": 8,
   "id": "eb9415ce",
   "metadata": {},
   "outputs": [
    {
     "ename": "ValueError",
     "evalue": "Attempting to shift content from an empty origin (name: asia, container_id: default, capacity: 2 level: 0.0).",
     "output_type": "error",
     "traceback": [
      "\u001b[1;31m---------------------------------------------------------------------------\u001b[0m",
      "\u001b[1;31mValueError\u001b[0m                                Traceback (most recent call last)",
      "\u001b[1;32mc:\\users\\asepehri\\documents\\github\\openclsim\\src\\openclsim\\model\\base_activities.py\u001b[0m in \u001b[0;36mdelayed_process\u001b[1;34m(self, activity_log, env)\u001b[0m\n\u001b[0;32m    275\u001b[0m \u001b[1;33m\u001b[0m\u001b[0m\n\u001b[1;32m--> 276\u001b[1;33m         \u001b[1;32myield\u001b[0m \u001b[1;32mfrom\u001b[0m \u001b[0mself\u001b[0m\u001b[1;33m.\u001b[0m\u001b[0mmain_process_function\u001b[0m\u001b[1;33m(\u001b[0m\u001b[0mactivity_log\u001b[0m\u001b[1;33m=\u001b[0m\u001b[0mself\u001b[0m\u001b[1;33m,\u001b[0m \u001b[0menv\u001b[0m\u001b[1;33m=\u001b[0m\u001b[0mself\u001b[0m\u001b[1;33m.\u001b[0m\u001b[0menv\u001b[0m\u001b[1;33m)\u001b[0m\u001b[1;33m\u001b[0m\u001b[1;33m\u001b[0m\u001b[0m\n\u001b[0m\u001b[0;32m    277\u001b[0m \u001b[1;33m\u001b[0m\u001b[0m\n",
      "\u001b[1;32mc:\\users\\asepehri\\documents\\github\\openclsim\\src\\openclsim\\model\\shift_amount_activity.py\u001b[0m in \u001b[0;36mmain_process_function\u001b[1;34m(self, activity_log, env)\u001b[0m\n\u001b[0;32m     77\u001b[0m \u001b[1;33m\u001b[0m\u001b[0m\n\u001b[1;32m---> 78\u001b[1;33m         amount = self.processor.determine_processor_amount(\n\u001b[0m\u001b[0;32m     79\u001b[0m             \u001b[0mself\u001b[0m\u001b[1;33m.\u001b[0m\u001b[0morigin\u001b[0m\u001b[1;33m,\u001b[0m \u001b[0mself\u001b[0m\u001b[1;33m.\u001b[0m\u001b[0mdestination\u001b[0m\u001b[1;33m,\u001b[0m \u001b[0mself\u001b[0m\u001b[1;33m.\u001b[0m\u001b[0mamount\u001b[0m\u001b[1;33m,\u001b[0m \u001b[0mself\u001b[0m\u001b[1;33m.\u001b[0m\u001b[0mid_\u001b[0m\u001b[1;33m\u001b[0m\u001b[1;33m\u001b[0m\u001b[0m\n",
      "\u001b[1;32mc:\\users\\asepehri\\documents\\github\\openclsim\\src\\openclsim\\core\\processor.py\u001b[0m in \u001b[0;36mdetermine_processor_amount\u001b[1;34m(self, origin, destination, amount, id_)\u001b[0m\n\u001b[0;32m    159\u001b[0m         \u001b[1;32mif\u001b[0m \u001b[0morigin_max_amount\u001b[0m \u001b[1;33m<=\u001b[0m \u001b[1;36m0\u001b[0m\u001b[1;33m:\u001b[0m\u001b[1;33m\u001b[0m\u001b[1;33m\u001b[0m\u001b[0m\n\u001b[1;32m--> 160\u001b[1;33m             raise ValueError(\n\u001b[0m\u001b[0;32m    161\u001b[0m                 \u001b[1;34m\"Attempting to shift content from an empty origin \"\u001b[0m\u001b[1;33m\u001b[0m\u001b[1;33m\u001b[0m\u001b[0m\n",
      "\u001b[1;31mValueError\u001b[0m: Attempting to shift content from an empty origin (name: asia, container_id: default, capacity: 2 level: 0.0).",
      "\nThe above exception was the direct cause of the following exception:\n",
      "\u001b[1;31mValueError\u001b[0m                                Traceback (most recent call last)",
      "\u001b[1;32mc:\\users\\asepehri\\documents\\github\\openclsim\\src\\openclsim\\model\\base_activities.py\u001b[0m in \u001b[0;36mdelayed_process\u001b[1;34m(self, activity_log, env)\u001b[0m\n\u001b[0;32m    234\u001b[0m         \u001b[1;32mif\u001b[0m \u001b[0mhasattr\u001b[0m\u001b[1;33m(\u001b[0m\u001b[0mself\u001b[0m\u001b[1;33m,\u001b[0m \u001b[1;34m\"start_event_parent\"\u001b[0m\u001b[1;33m)\u001b[0m\u001b[1;33m:\u001b[0m\u001b[1;33m\u001b[0m\u001b[1;33m\u001b[0m\u001b[0m\n\u001b[1;32m--> 235\u001b[1;33m             \u001b[1;32myield\u001b[0m \u001b[0mself\u001b[0m\u001b[1;33m.\u001b[0m\u001b[0mparse_expression\u001b[0m\u001b[1;33m(\u001b[0m\u001b[0mself\u001b[0m\u001b[1;33m.\u001b[0m\u001b[0mstart_event_parent\u001b[0m\u001b[1;33m)\u001b[0m\u001b[1;33m\u001b[0m\u001b[1;33m\u001b[0m\u001b[0m\n\u001b[0m\u001b[0;32m    236\u001b[0m \u001b[1;33m\u001b[0m\u001b[0m\n",
      "\u001b[1;31mValueError\u001b[0m: Attempting to shift content from an empty origin (name: asia, container_id: default, capacity: 2 level: 0.0).",
      "\nThe above exception was the direct cause of the following exception:\n",
      "\u001b[1;31mValueError\u001b[0m                                Traceback (most recent call last)",
      "\u001b[1;32m~\\AppData\\Local\\Temp/ipykernel_1472/3630247448.py\u001b[0m in \u001b[0;36m<module>\u001b[1;34m\u001b[0m\n\u001b[0;32m      1\u001b[0m \u001b[1;31m# initiate the simpy processes defined in the 'repeat_activity' and run simpy\u001b[0m\u001b[1;33m\u001b[0m\u001b[1;33m\u001b[0m\u001b[0m\n\u001b[0;32m      2\u001b[0m \u001b[0mmodel\u001b[0m\u001b[1;33m.\u001b[0m\u001b[0mregister_processes\u001b[0m\u001b[1;33m(\u001b[0m\u001b[1;33m[\u001b[0m\u001b[0mwhile_activity\u001b[0m\u001b[1;33m]\u001b[0m\u001b[1;33m)\u001b[0m\u001b[1;33m\u001b[0m\u001b[1;33m\u001b[0m\u001b[0m\n\u001b[1;32m----> 3\u001b[1;33m \u001b[0mmy_env\u001b[0m\u001b[1;33m.\u001b[0m\u001b[0mrun\u001b[0m\u001b[1;33m(\u001b[0m\u001b[1;33m)\u001b[0m\u001b[1;33m\u001b[0m\u001b[1;33m\u001b[0m\u001b[0m\n\u001b[0m",
      "\u001b[1;32m~\\Anaconda3\\lib\\site-packages\\simpy\\core.py\u001b[0m in \u001b[0;36mrun\u001b[1;34m(self, until)\u001b[0m\n\u001b[0;32m    252\u001b[0m         \u001b[1;32mtry\u001b[0m\u001b[1;33m:\u001b[0m\u001b[1;33m\u001b[0m\u001b[1;33m\u001b[0m\u001b[0m\n\u001b[0;32m    253\u001b[0m             \u001b[1;32mwhile\u001b[0m \u001b[1;32mTrue\u001b[0m\u001b[1;33m:\u001b[0m\u001b[1;33m\u001b[0m\u001b[1;33m\u001b[0m\u001b[0m\n\u001b[1;32m--> 254\u001b[1;33m                 \u001b[0mself\u001b[0m\u001b[1;33m.\u001b[0m\u001b[0mstep\u001b[0m\u001b[1;33m(\u001b[0m\u001b[1;33m)\u001b[0m\u001b[1;33m\u001b[0m\u001b[1;33m\u001b[0m\u001b[0m\n\u001b[0m\u001b[0;32m    255\u001b[0m         \u001b[1;32mexcept\u001b[0m \u001b[0mStopSimulation\u001b[0m \u001b[1;32mas\u001b[0m \u001b[0mexc\u001b[0m\u001b[1;33m:\u001b[0m\u001b[1;33m\u001b[0m\u001b[1;33m\u001b[0m\u001b[0m\n\u001b[0;32m    256\u001b[0m             \u001b[1;32mreturn\u001b[0m \u001b[0mexc\u001b[0m\u001b[1;33m.\u001b[0m\u001b[0margs\u001b[0m\u001b[1;33m[\u001b[0m\u001b[1;36m0\u001b[0m\u001b[1;33m]\u001b[0m  \u001b[1;31m# == until.value\u001b[0m\u001b[1;33m\u001b[0m\u001b[1;33m\u001b[0m\u001b[0m\n",
      "\u001b[1;32m~\\Anaconda3\\lib\\site-packages\\simpy\\core.py\u001b[0m in \u001b[0;36mstep\u001b[1;34m(self)\u001b[0m\n\u001b[0;32m    204\u001b[0m             \u001b[0mexc\u001b[0m \u001b[1;33m=\u001b[0m \u001b[0mtype\u001b[0m\u001b[1;33m(\u001b[0m\u001b[0mevent\u001b[0m\u001b[1;33m.\u001b[0m\u001b[0m_value\u001b[0m\u001b[1;33m)\u001b[0m\u001b[1;33m(\u001b[0m\u001b[1;33m*\u001b[0m\u001b[0mevent\u001b[0m\u001b[1;33m.\u001b[0m\u001b[0m_value\u001b[0m\u001b[1;33m.\u001b[0m\u001b[0margs\u001b[0m\u001b[1;33m)\u001b[0m\u001b[1;33m\u001b[0m\u001b[1;33m\u001b[0m\u001b[0m\n\u001b[0;32m    205\u001b[0m             \u001b[0mexc\u001b[0m\u001b[1;33m.\u001b[0m\u001b[0m__cause__\u001b[0m \u001b[1;33m=\u001b[0m \u001b[0mevent\u001b[0m\u001b[1;33m.\u001b[0m\u001b[0m_value\u001b[0m\u001b[1;33m\u001b[0m\u001b[1;33m\u001b[0m\u001b[0m\n\u001b[1;32m--> 206\u001b[1;33m             \u001b[1;32mraise\u001b[0m \u001b[0mexc\u001b[0m\u001b[1;33m\u001b[0m\u001b[1;33m\u001b[0m\u001b[0m\n\u001b[0m\u001b[0;32m    207\u001b[0m \u001b[1;33m\u001b[0m\u001b[0m\n\u001b[0;32m    208\u001b[0m     def run(\n",
      "\u001b[1;31mValueError\u001b[0m: Attempting to shift content from an empty origin (name: asia, container_id: default, capacity: 2 level: 0.0)."
     ]
    }
   ],
   "source": [
    "# initiate the simpy processes defined in the 'repeat_activity' and run simpy\n",
    "model.register_processes([while_activity])\n",
    "my_env.run()"
   ]
  },
  {
   "cell_type": "markdown",
   "id": "e8a11c4b",
   "metadata": {},
   "source": [
    "### 5. Inspect Results"
   ]
  },
  {
   "cell_type": "markdown",
   "id": "1e2c775b",
   "metadata": {},
   "source": [
    "#### 5.1. Inspect logs\n",
    "The method plot.get_log_dataframe returns the log of an activity in the form of a dataframe. By adding other activities in a list as the second argument, the Activity can be made more human readable."
   ]
  },
  {
   "cell_type": "code",
   "execution_count": null,
   "id": "1291ecf2",
   "metadata": {
    "scrolled": true
   },
   "outputs": [],
   "source": [
    "display(plot.get_log_dataframe(ham311, [while_activity]))"
   ]
  },
  {
   "cell_type": "markdown",
   "id": "39bbf3bf",
   "metadata": {},
   "source": [
    "#### 5.2. Visualize Gantt Chart"
   ]
  },
  {
   "cell_type": "code",
   "execution_count": null,
   "id": "fc1a8d62",
   "metadata": {
    "scrolled": false
   },
   "outputs": [],
   "source": [
    "plot.get_gantt_chart([while_activity])"
   ]
  },
  {
   "cell_type": "code",
   "execution_count": null,
   "id": "71f20d0a",
   "metadata": {},
   "outputs": [],
   "source": [
    "plot.get_gantt_chart([ham311, from_site, to_site],id_map=[while_activity])"
   ]
  },
  {
   "cell_type": "code",
   "execution_count": null,
   "id": "5954baa2",
   "metadata": {},
   "outputs": [],
   "source": [
    "fig = plot.get_step_chart([ham311, from_site, to_site])"
   ]
  },
  {
   "cell_type": "markdown",
   "id": "0f8c41d2",
   "metadata": {},
   "source": [
    "### 1. Production of Trailing Suction Hopper Dredger\n",
    "Production rate of trailing suction hopper dredgers (TSHDs) is a metric for calculating the amount of dredged sediments during a single dredging cycle. The more the production rate of TSHDs, the less time will be spent for conducting the project. The production of TSHDs varies over time based on the sailing distance to discharging area, capacity of hopper, operational hours, and sediment characteristics. \n",
    "\n",
    "Different determining factors can affect the production of TSHDs summarized as follows.\n",
    "* Propulsion power (for both sailing and dredging operations)\n",
    "* Pumping power (filling the hopper and pumping the sediments ashore)\n",
    "* Erosion power (jet power installed on both drag head and hopper)\n",
    "* Vacuum (suction power to elevate the slurry)\n",
    "* Manpower (efficiency of crew and the level of their proficiency)\n",
    "* Hopper capacity\n",
    "\n",
    "The following steps are taken in this notebookn to evaluate the"
   ]
  },
  {
   "cell_type": "code",
   "execution_count": null,
   "id": "de5db936",
   "metadata": {},
   "outputs": [],
   "source": []
  }
 ],
 "metadata": {
  "kernelspec": {
   "display_name": "Python 3 (ipykernel)",
   "language": "python",
   "name": "python3"
  },
  "language_info": {
   "codemirror_mode": {
    "name": "ipython",
    "version": 3
   },
   "file_extension": ".py",
   "mimetype": "text/x-python",
   "name": "python",
   "nbconvert_exporter": "python",
   "pygments_lexer": "ipython3",
   "version": "3.9.7"
  }
 },
 "nbformat": 4,
 "nbformat_minor": 5
}
