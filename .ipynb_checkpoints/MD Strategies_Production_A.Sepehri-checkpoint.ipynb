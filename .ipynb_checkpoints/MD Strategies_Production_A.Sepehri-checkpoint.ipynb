{
 "cells": [
  {
   "cell_type": "markdown",
   "id": "5822b056",
   "metadata": {},
   "source": [
    "# Production of dredging vessels\n",
    "\n",
    "Trailing Suction Hopper Dredgers (TSHDs) and Water Injection Dredgers (WIDs) are the main vessels used for maintenance dredging in ports and waterways. The efficiency of reallocating/remobilizing sediments by these vessels can be measured by determining the production of these vessels which is the amount of dredged sediments per period of time.\n",
    "\n",
    "In this notebook, a basic simulation is set up to determine the production of TSHDs and WIDs in a simple network. Some properties such as the location of dredging and discharging are added to the project network along with vessel properties.\n",
    "\n",
    "The following steps are taken to conduct the simulation:\n",
    "\n",
    "* Import libraries\n",
    "* Initialise simpy environment\n",
    "* Define object classes\n",
    "* Create objects\n",
    "  * Create sites\n",
    "  * Create vessels\n",
    "  * Create activities\n",
    "* Register processes and run simpy"
   ]
  },
  {
   "cell_type": "markdown",
   "id": "dba7e963",
   "metadata": {},
   "source": [
    "### 0. Importing libraries\n",
    "It starts with importing libraries"
   ]
  },
  {
   "cell_type": "code",
   "execution_count": 1,
   "id": "55f3457b",
   "metadata": {},
   "outputs": [
    {
     "data": {
      "text/html": [
       "        <script type=\"text/javascript\">\n",
       "        window.PlotlyConfig = {MathJaxConfig: 'local'};\n",
       "        if (window.MathJax && window.MathJax.Hub && window.MathJax.Hub.Config) {window.MathJax.Hub.Config({SVG: {font: \"STIX-Web\"}});}\n",
       "        if (typeof require !== 'undefined') {\n",
       "        require.undef(\"plotly\");\n",
       "        requirejs.config({\n",
       "            paths: {\n",
       "                'plotly': ['https://cdn.plot.ly/plotly-2.12.1.min']\n",
       "            }\n",
       "        });\n",
       "        require(['plotly'], function(Plotly) {\n",
       "            window._Plotly = Plotly;\n",
       "        });\n",
       "        }\n",
       "        </script>\n",
       "        "
      ]
     },
     "metadata": {},
     "output_type": "display_data"
    }
   ],
   "source": [
    "#packages related to time, space, and id\n",
    "import datetime, time\n",
    "\n",
    "# package(s) related to the simulation (creating the vessel, running the simulation)\n",
    "import simpy\n",
    "import openclsim.core as core\n",
    "import openclsim.model as model\n",
    "import openclsim.plot as plot\n",
    "import openclsim.plugins as plugin\n",
    "\n",
    "# package(s) needed for inspecting the output\n",
    "import pandas as pd\n",
    "\n",
    "# package(s) needed for data handling\n",
    "import pandas as pd\n",
    "import numpy as np\n",
    "import matplotlib.pyplot as plt\n",
    "\n",
    "# package(s) used for creating and geo-locating the graph (spatial libraries)  \n",
    "import shapely.geometry\n",
    "from plotly.offline import init_notebook_mode, iplot\n",
    "import plotly.graph_objs as go\n",
    "\n",
    "init_notebook_mode(connected=True)"
   ]
  },
  {
   "cell_type": "markdown",
   "id": "75d6b9b8",
   "metadata": {},
   "source": [
    "### 1. Initialize simpy Environment"
   ]
  },
  {
   "cell_type": "code",
   "execution_count": 2,
   "id": "34cf6f2e",
   "metadata": {},
   "outputs": [],
   "source": [
    "# setup environment (simulation time needs to match the project starting time)\n",
    "simulation_start  = datetime.datetime(2022, 1, 1, 0, 0)\n",
    "my_env = simpy.Environment(initial_time=simulation_start.timestamp())"
   ]
  },
  {
   "cell_type": "markdown",
   "id": "26c1615f",
   "metadata": {},
   "source": [
    "### 2. Define Object classes"
   ]
  },
  {
   "cell_type": "code",
   "execution_count": 3,
   "id": "1263ef60",
   "metadata": {},
   "outputs": [],
   "source": [
    "# create a site object based on desired mixin classes\n",
    "Site = type(\"Site\", (core.Identifiable, core.Log, core.Locatable, core.HasContainer, core.HasResource),{})\n",
    "\n",
    "\n",
    "# create a TransportProcessingResource object based on desired mixin classes\n",
    "TransportProcessingResource = type(\"TransportProcessingResource\", (core.Identifiable, core.Log, \n",
    "                                                                   core.ContainerDependentMovable, \n",
    "                                                                   core.Processor, core.HasResource,\n",
    "                                                                   core.LoadingFunction, core.UnloadingFunction),{})"
   ]
  },
  {
   "cell_type": "markdown",
   "id": "74a76724",
   "metadata": {},
   "source": [
    "### 3. Create Objects"
   ]
  },
  {
   "cell_type": "markdown",
   "id": "91a31481",
   "metadata": {},
   "source": [
    "#### 3.1. Create site objects"
   ]
  },
  {
   "cell_type": "code",
   "execution_count": 4,
   "id": "4fe740aa",
   "metadata": {},
   "outputs": [],
   "source": [
    "# prepare input data for from_site\n",
    "location_from_site = shapely.geometry.Point(4.18055556, 52.18664444)\n",
    "data_from_site = {\"env\": my_env, \"name\": \"from_site\", \"geometry\": location_from_site, \"capacity\": 10_000,\n",
    "                  \"level\": 10_000}\n",
    "\n",
    "# instantiate from_site\n",
    "from_site = Site(**data_from_site)\n",
    "\n",
    "\n",
    "# prepare input data for to_site\n",
    "location_to_site = shapely.geometry.Point(4.25222222, 52.11428333)\n",
    "data_to_site = {\"env\": my_env, \"name\": \"to_site\", \"geometry\": location_to_site, \"capacity\": 10_000, \"level\": 0}\n",
    "\n",
    "# instantiate to_site\n",
    "to_site = Site(**data_to_site)"
   ]
  },
  {
   "cell_type": "markdown",
   "id": "84839ba6",
   "metadata": {},
   "source": [
    "#### 3.2. Create vessel object(s)"
   ]
  },
  {
   "cell_type": "code",
   "execution_count": 5,
   "id": "1ca6f6f7",
   "metadata": {},
   "outputs": [],
   "source": [
    "# prepare input data for sagarmanthan (WID), ham311 (TSHD), and asia(TSHD)\n",
    "data_sagarmanthan = {\"env\": my_env,\n",
    "                     \"name\": \"sagarmanthan\",\n",
    "                     \"geometry\": location_from_site,\n",
    "                     \"loading_rate\": 0,\n",
    "                     \"unloading_rate\": 0,\n",
    "                     \"capacity\": 0,\n",
    "                     \"compute_v\": 0.8}\n",
    "\n",
    "data_ham311 = {\"env\": my_env,\n",
    "                     \"name\": \"ham311\",\n",
    "                     \"geometry\": location_from_site,\n",
    "                     \"loading_rate\": 1,\n",
    "                     \"unloading_rate\": 3,\n",
    "                     \"capacity\": 3700,\n",
    "                     \"compute_v\": 12.2}\n",
    "\n",
    "data_asia = {\"env\": my_env,\n",
    "                     \"name\": \"asia\",\n",
    "                     \"geometry\": location_from_site,\n",
    "                     \"loading_rate\": 2,\n",
    "                     \"unloading_rate\": 6,\n",
    "                     \"capacity\": 11000,\n",
    "                     \"compute_v\": 17}\n",
    "\n",
    "# instantiate sagarmanthan\n",
    "sagarmanthan = TransportProcessingResource(**data_sagarmanthan)\n",
    "ham311 = TransportProcessingResource(**data_ham311)\n",
    "asia = TransportProcessingResource(**data_asia)"
   ]
  },
  {
   "cell_type": "markdown",
   "id": "f06a99f7",
   "metadata": {},
   "source": [
    "#### 3.3. Create activity/activities"
   ]
  },
  {
   "cell_type": "code",
   "execution_count": 6,
   "id": "c17cd00a",
   "metadata": {},
   "outputs": [],
   "source": [
    "# initialise registry\n",
    "registry = {}"
   ]
  },
  {
   "cell_type": "code",
   "execution_count": 7,
   "id": "410dd406",
   "metadata": {},
   "outputs": [],
   "source": [
    "# create a list of subprocesses\n",
    "sub_processes = [model.MoveActivity(env=my_env, name=\"sailing empty\", registry=registry, mover=ham311,\n",
    "                                    destination=from_site),\n",
    "                model.ShiftAmountActivity(env=my_env, name=\"loading\", registry=registry, processor=ham311,\n",
    "                                          origin=from_site, destination=ham311, amount=4, duration=40),\n",
    "                model.MoveActivity(env=my_env, name=\"sailing full\", registry=registry, mover=ham311,\n",
    "                                    destination=to_site),\n",
    "                model.ShiftAmountActivity(env=my_env, name=\"unloading\", registry=registry, processor=ham311,\n",
    "                                          origin=ham311, destination=to_site, amount=4, duration=20),\n",
    "                model.BasicActivity(env=my_env, name=\"Basic activity\", registry=registry, duration=42,\n",
    "                                    additional_logs=[ham311])]\n",
    "\n",
    "\n",
    "# create a basic activity (it just creates an event that shifts time for 'duration')\n",
    "basic_activity = model.BasicActivity(env=my_env, name=\"Basic activity\", registry=registry, duration=42)\n",
    "\n",
    "\n",
    "# create a 'repeat activity' that is made up of the 'sub_processes'\n",
    "repeat_activity = model.RepeatActivity(env=my_env, name=\"Repeat activity\", registry=registry, sub_processes=sub_processes,\n",
    "                                       repetitions=3)\n",
    "\n",
    "\n",
    "# create a parallel activity\n",
    "parallel_activity = model.ParallelActivity(env= my_env, name= \"Parallel process\", registry= registry,\n",
    "                                           sub_processes= sub_processes)\n",
    "\n",
    "single_run = model.single_run_process(name=\"single_run\", registry={}, env=my_env, origin=from_site,\n",
    "    destination=to_site, mover=ham311, loader=ham311, unloader=ham311)"
   ]
  },
  {
   "cell_type": "markdown",
   "id": "91522834",
   "metadata": {},
   "source": [
    "### 4. Register processes and run simpy"
   ]
  },
  {
   "cell_type": "code",
   "execution_count": 8,
   "id": "eb9415ce",
   "metadata": {},
   "outputs": [],
   "source": [
    "# initiate the simpy processes defined in the 'repeat_activity' and run simpy\n",
    "model.register_processes([repeat_activity])\n",
    "my_env.run()"
   ]
  },
  {
   "cell_type": "markdown",
   "id": "e8a11c4b",
   "metadata": {},
   "source": [
    "### 5. Inspect Results"
   ]
  },
  {
   "cell_type": "markdown",
   "id": "1e2c775b",
   "metadata": {},
   "source": [
    "#### 5.1. Inspect logs\n",
    "The method plot.get_log_dataframe returns the log of an activity in the form of a dataframe. By adding other activities in a list as the second argument, the Activity can be made more human readable."
   ]
  },
  {
   "cell_type": "code",
   "execution_count": 10,
   "id": "1291ecf2",
   "metadata": {},
   "outputs": [
    {
     "ename": "AttributeError",
     "evalue": "'list' object has no attribute 'id'",
     "output_type": "error",
     "traceback": [
      "\u001b[1;31m---------------------------------------------------------------------------\u001b[0m",
      "\u001b[1;31mAttributeError\u001b[0m                            Traceback (most recent call last)",
      "\u001b[1;32m~\\AppData\\Local\\Temp/ipykernel_3272/988784129.py\u001b[0m in \u001b[0;36m<module>\u001b[1;34m\u001b[0m\n\u001b[1;32m----> 1\u001b[1;33m \u001b[0mdisplay\u001b[0m\u001b[1;33m(\u001b[0m\u001b[0mplot\u001b[0m\u001b[1;33m.\u001b[0m\u001b[0mget_log_dataframe\u001b[0m\u001b[1;33m(\u001b[0m\u001b[0mham311\u001b[0m\u001b[1;33m,\u001b[0m \u001b[1;33m[\u001b[0m\u001b[1;33m*\u001b[0m\u001b[0msingle_run\u001b[0m\u001b[1;33m,\u001b[0m \u001b[0mrepeat_activity\u001b[0m\u001b[1;33m]\u001b[0m\u001b[1;33m)\u001b[0m\u001b[1;33m)\u001b[0m\u001b[1;33m\u001b[0m\u001b[1;33m\u001b[0m\u001b[0m\n\u001b[0m",
      "\u001b[1;32mc:\\users\\asepehri\\documents\\github\\openclsim\\src\\openclsim\\plot\\log_dataframe.py\u001b[0m in \u001b[0;36mget_log_dataframe\u001b[1;34m(simulation_object, id_map)\u001b[0m\n\u001b[0;32m     23\u001b[0m \u001b[1;33m\u001b[0m\u001b[0m\n\u001b[0;32m     24\u001b[0m     \u001b[1;32mif\u001b[0m \u001b[0misinstance\u001b[0m\u001b[1;33m(\u001b[0m\u001b[0mid_map\u001b[0m\u001b[1;33m,\u001b[0m \u001b[0mlist\u001b[0m\u001b[1;33m)\u001b[0m\u001b[1;33m:\u001b[0m\u001b[1;33m\u001b[0m\u001b[1;33m\u001b[0m\u001b[0m\n\u001b[1;32m---> 25\u001b[1;33m         \u001b[0mid_map\u001b[0m \u001b[1;33m=\u001b[0m \u001b[1;33m{\u001b[0m\u001b[0mact\u001b[0m\u001b[1;33m.\u001b[0m\u001b[0mid\u001b[0m\u001b[1;33m:\u001b[0m \u001b[0mact\u001b[0m\u001b[1;33m.\u001b[0m\u001b[0mname\u001b[0m \u001b[1;32mfor\u001b[0m \u001b[0mact\u001b[0m \u001b[1;32min\u001b[0m \u001b[0mget_subprocesses\u001b[0m\u001b[1;33m(\u001b[0m\u001b[0mid_map\u001b[0m\u001b[1;33m)\u001b[0m\u001b[1;33m}\u001b[0m\u001b[1;33m\u001b[0m\u001b[1;33m\u001b[0m\u001b[0m\n\u001b[0m\u001b[0;32m     26\u001b[0m     \u001b[1;32melse\u001b[0m\u001b[1;33m:\u001b[0m\u001b[1;33m\u001b[0m\u001b[1;33m\u001b[0m\u001b[0m\n\u001b[0;32m     27\u001b[0m         \u001b[0mid_map\u001b[0m \u001b[1;33m=\u001b[0m \u001b[0mid_map\u001b[0m \u001b[1;32mif\u001b[0m \u001b[0mid_map\u001b[0m \u001b[1;32melse\u001b[0m \u001b[1;33m{\u001b[0m\u001b[1;33m}\u001b[0m\u001b[1;33m\u001b[0m\u001b[1;33m\u001b[0m\u001b[0m\n",
      "\u001b[1;32mc:\\users\\asepehri\\documents\\github\\openclsim\\src\\openclsim\\plot\\log_dataframe.py\u001b[0m in \u001b[0;36m<dictcomp>\u001b[1;34m(.0)\u001b[0m\n\u001b[0;32m     23\u001b[0m \u001b[1;33m\u001b[0m\u001b[0m\n\u001b[0;32m     24\u001b[0m     \u001b[1;32mif\u001b[0m \u001b[0misinstance\u001b[0m\u001b[1;33m(\u001b[0m\u001b[0mid_map\u001b[0m\u001b[1;33m,\u001b[0m \u001b[0mlist\u001b[0m\u001b[1;33m)\u001b[0m\u001b[1;33m:\u001b[0m\u001b[1;33m\u001b[0m\u001b[1;33m\u001b[0m\u001b[0m\n\u001b[1;32m---> 25\u001b[1;33m         \u001b[0mid_map\u001b[0m \u001b[1;33m=\u001b[0m \u001b[1;33m{\u001b[0m\u001b[0mact\u001b[0m\u001b[1;33m.\u001b[0m\u001b[0mid\u001b[0m\u001b[1;33m:\u001b[0m \u001b[0mact\u001b[0m\u001b[1;33m.\u001b[0m\u001b[0mname\u001b[0m \u001b[1;32mfor\u001b[0m \u001b[0mact\u001b[0m \u001b[1;32min\u001b[0m \u001b[0mget_subprocesses\u001b[0m\u001b[1;33m(\u001b[0m\u001b[0mid_map\u001b[0m\u001b[1;33m)\u001b[0m\u001b[1;33m}\u001b[0m\u001b[1;33m\u001b[0m\u001b[1;33m\u001b[0m\u001b[0m\n\u001b[0m\u001b[0;32m     26\u001b[0m     \u001b[1;32melse\u001b[0m\u001b[1;33m:\u001b[0m\u001b[1;33m\u001b[0m\u001b[1;33m\u001b[0m\u001b[0m\n\u001b[0;32m     27\u001b[0m         \u001b[0mid_map\u001b[0m \u001b[1;33m=\u001b[0m \u001b[0mid_map\u001b[0m \u001b[1;32mif\u001b[0m \u001b[0mid_map\u001b[0m \u001b[1;32melse\u001b[0m \u001b[1;33m{\u001b[0m\u001b[1;33m}\u001b[0m\u001b[1;33m\u001b[0m\u001b[1;33m\u001b[0m\u001b[0m\n",
      "\u001b[1;31mAttributeError\u001b[0m: 'list' object has no attribute 'id'"
     ]
    }
   ],
   "source": [
    "display(plot.get_log_dataframe(ham311, [*single_run, repeat_activity]))"
   ]
  },
  {
   "cell_type": "markdown",
   "id": "0f8c41d2",
   "metadata": {},
   "source": [
    "### 1. Production of Trailing Suction Hopper Dredger\n",
    "Production rate of trailing suction hopper dredgers (TSHDs) is a metric for calculating the amount of dredged sediments during a single dredging cycle. The more the production rate of TSHDs, the less time will be spent for conducting the project. The production of TSHDs varies over time based on the sailing distance to discharging area, capacity of hopper, operational hours, and sediment characteristics. \n",
    "\n",
    "Different determining factors can affect the production of TSHDs summarized as follows.\n",
    "* Propulsion power (for both sailing and dredging operations)\n",
    "* Pumping power (filling the hopper and pumping the sediments ashore)\n",
    "* Erosion power (jet power installed on both drag head and hopper)\n",
    "* Vacuum (suction power to elevate the slurry)\n",
    "* Manpower (efficiency of crew and the level of their proficiency)\n",
    "* Hopper capacity\n",
    "\n",
    "The following steps are taken in this notebookn to evaluate the"
   ]
  },
  {
   "cell_type": "code",
   "execution_count": null,
   "id": "de5db936",
   "metadata": {},
   "outputs": [],
   "source": []
  }
 ],
 "metadata": {
  "kernelspec": {
   "display_name": "Python 3 (ipykernel)",
   "language": "python",
   "name": "python3"
  },
  "language_info": {
   "codemirror_mode": {
    "name": "ipython",
    "version": 3
   },
   "file_extension": ".py",
   "mimetype": "text/x-python",
   "name": "python",
   "nbconvert_exporter": "python",
   "pygments_lexer": "ipython3",
   "version": "3.9.7"
  }
 },
 "nbformat": 4,
 "nbformat_minor": 5
}
