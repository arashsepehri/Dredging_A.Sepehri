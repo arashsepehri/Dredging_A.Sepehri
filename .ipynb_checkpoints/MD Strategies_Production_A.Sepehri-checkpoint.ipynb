{
 "cells": [
  {
   "cell_type": "markdown",
   "id": "5822b056",
   "metadata": {},
   "source": [
    "## Production of dredging vessels\n",
    "\n",
    "### 1. Production of Trailing Suction Hopper Dredger\n",
    "Production rate of trailing suction hopper dredgers (TSHDs) is a metric for calculating the amount of dredged sediments during a single dredging cycle. The more the production rate of TSHDs, the less time will be spent for conducting the project. Based on the sailing distance to discharging area, capacity of hopper, operational hours (excluding maintenance hours), and sediment types (mud, sand, clay, gravel, etc.), the production of TSHDs varies over the time. Consequently, the whole project can be done with relatively lower corresponding costs. Different determining factors can affect the production of TSHDs summarized as follows.\n",
    "\tPropulsion power (for both sailing and dredging operations)\n",
    "\tPumping power (filling the hopper and pumping the sediments ashore)\n",
    "\tErosion power (jet power installed on both drag head and hopper)\n",
    "\tVacuum (suction power to elevate the slurry)\n",
    "\tManpower (efficiency of crew and the level of their proficiency)\n",
    "\tHopper capacity\n",
    "The total production cycle of TSHDs is calculated using the following equation (Bray et al., 1997).\n",
    "\n",
    "P=  (C_H f_e)/B(t_load+t_turn+t_sail+t_discharge ) \t(1)\n",
    " \n",
    "where P is the production rate in m^3⁄h, C_H is the hopper capacity in m^3, f_e is the proportion of the hopper that is filled, B is the bulking factor which shows how much of the hopper capacity will be filled with materials during the loading phase and is determined as (dredged volume)/(in-situ volume), and (t_load+t_turn+t_sail+t_discharge ) is different components of a single dredging cycle in hours. A more elaborated calculation of each items in the abovementioned equation is proposed as follows. Due to simplicity, the proportion of the hopper that is filled f_e is considered equal to the ratio of solids to the amount of slurry C_v calculated as follows.\n",
    " \n",
    "f_e=C_v=(〖SG〗_s-〖SG〗_f)/(〖SG〗_so-〖SG〗_f )\t(2)\n",
    "\n",
    "where 〖SG〗_s, 〖SG〗_f, and 〖SG〗_so are specific gravity of slurry, carrier fluid, and solids. Turning time t_turn in hours can be calculated as follows.\n",
    "\n",
    "t_turn=(N_turn t_load t_180)/L\t(3)\n",
    "\n",
    "where N_turn, t_180, and L are number of turns, the time it takes to turn the dredger around 180 degrees in hours, and the length of the dredging area in nautical miles respectively. Sailing time t_sail which is the time spent to travel from dredging site to discharging site and sail back to the dredging site is calculated as follows.\n",
    "\n",
    "t_sail=2Y/V_f \t(4)\n",
    "\n",
    "where Y is the distance between dredging and discharging sites in nautical miles and V_f is the speed of TSHD in knots when the hopper is fully loaded. Discharging time t_discharge is different based on the discharging strategy (bottom-dumped, pumped to shore, or rainbowing). The loading time of hopper t_load depends on using overflow. When overflowing is not allowed, the loading time is calculated as follows.\n",
    "\n",
    "t_load=C_H/Q\t(no overflow)\t(5)\n",
    "\n",
    "where Q is the optimal rate of flow in the hopper in m^3⁄h. When the overflow is allowed, the efficiency of loading the hopper is increased and the production will be maximized until a high concentration of solids start to discharge from top of the hopper. Then, the loading time is increased by the duration of overflowing and it can be calculated as follows.\n",
    "\n",
    "t_load=C_H/Q+t_overflow\t(overflow)\t(6)\n",
    "\n",
    "The production rate shown in Equation (1) is calculated based on an ideal efficiency of operations; while some risk factors can be considered to decrease the production rate of TSHDs. Some of these risk factors that lead to decreasing the production rate are delay factor n_d due to maritime traffic and bad weather conditions, operational factor n_o due to inefficiency of crew, and mechanical breakdown factor n_b due to inevitable breakdown of equipment. An average production rate which is more realistic for real-world problems can be calculated as follows.\n",
    "\n",
    "P_ave=n_d×n_o×n_b×P\t(7)\n"
   ]
  },
  {
   "cell_type": "code",
   "execution_count": null,
   "id": "6e8b412d",
   "metadata": {},
   "outputs": [],
   "source": []
  }
 ],
 "metadata": {
  "kernelspec": {
   "display_name": "Python 3 (ipykernel)",
   "language": "python",
   "name": "python3"
  },
  "language_info": {
   "codemirror_mode": {
    "name": "ipython",
    "version": 3
   },
   "file_extension": ".py",
   "mimetype": "text/x-python",
   "name": "python",
   "nbconvert_exporter": "python",
   "pygments_lexer": "ipython3",
   "version": "3.9.7"
  }
 },
 "nbformat": 4,
 "nbformat_minor": 5
}
