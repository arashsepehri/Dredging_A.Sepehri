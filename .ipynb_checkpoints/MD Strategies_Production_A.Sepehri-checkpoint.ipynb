{
 "cells": [
  {
   "cell_type": "markdown",
   "id": "0f8c41d2",
   "metadata": {},
   "source": [
    "### Production of Trailing Suction Hopper Dredger (TSHD) and Water Injection Dredgers (WID)\n",
    "\n",
    "#### Production of TSHD\n",
    "\n",
    "Production rate of trailing suction hopper dredgers (TSHDs) is a metric for calculating the amount of dredged sediments during a single dredging cycle. The higher the production rate of TSHDs, the less time will be spent for conducting the project. The production of TSHDs varies over time based on the sailing distance to discharging area, capacity of hopper, operational hours, and sediment characteristics.\n",
    "\n",
    "In this notebook, basic parameters related to vessel characteristics and the time required for loading, sailing (full and empty), and unloading are considered.\n",
    "\n",
    "#### Production of WID\n",
    "\n",
    "Production rate of water injection dredgers (WIDs) is a meteric for calculating the amount of sediments washed out from the water column during a single dredging cycle. The production of WIDs is mainly dependent on the penetration depth of the jet bar and the trailing velocity of vessel. Also, the width of jet bar is a determining factor in measuring the production. The overlap between two adjoining dredging tracks is subtracted from jet bar width to estimate the correct rate of production.\n",
    "\n",
    "In this notebook, basic parameters related to vessel characteristics are developed for calculating the production rate.\n",
    "\n",
    "It is assumed that the sediment to be dredged in the system mainly contains soft sediments which is the case for maintenance dredging. Also, the project is perfomed continuously in time. Therefore, the dredging cycle is continouos and the production rate is calculated for each dredging cycle which gives us an insight into comparing the production in different cycles."
   ]
  },
  {
   "cell_type": "code",
   "execution_count": 43,
   "id": "9175f810",
   "metadata": {},
   "outputs": [],
   "source": [
    "# importing required libraries\n",
    "\n",
    "import numpy as np\n",
    "import geopy.distance"
   ]
  },
  {
   "cell_type": "code",
   "execution_count": 80,
   "id": "de5db936",
   "metadata": {},
   "outputs": [],
   "source": [
    "class Production:\n",
    "    \"\"\"\n",
    "    \n",
    "    Mixin class: These parameters are used to estimate the production of vessels (TSHD and WID)\n",
    "    type: can contain info on vessel type (TSHD or WID) [-]\n",
    "    \n",
    "    for TSHDs we have:\n",
    "    h: hopper capacity [m^3]\n",
    "    f_e: proportion of hopper that is filled [m^3]\n",
    "    b: bulking factor [-]\n",
    "    t_l: time required for loading [h]\n",
    "    t_se: time required for sailing empty [h]\n",
    "    t_sf: time required for sailing full [h]\n",
    "    t_d: time required for discharging [h]\n",
    "    t_tot: total time required for a single dredging cycle [h]\n",
    "    sg_s: specific gravity of slurry [m/s^2]\n",
    "    sg_so: specific gravity of solid [m/s^2]\n",
    "    sg_f: specific gravity of fluid [m/s^2]\n",
    "    dist: distance from dredging site to discharging site [km]\n",
    "    l_d: length of the dredging area [km]\n",
    "    v_se: velocity of vessel when sailing empty [knots]\n",
    "    v_sf: velocity of vessel when sailing full [knots]\n",
    "    prod_TSHD: total production of TSHD [m^3/h]\n",
    "    \n",
    "    for WIDs we have:\n",
    "    v_t: trailing velocity [m/s]\n",
    "    j_w: jet bar width [m]\n",
    "    o: overlap between two adjoining dredging tracks [m]\n",
    "    pen_d: penetration depth [m]\n",
    "    prod_WID: total production of WID [m^3/s]\n",
    "    s_u: undrained shear strength (kPa)\n",
    "    den_w: water density [Kg/m^3]\n",
    "    \n",
    "    Add information on possible restrictions to the vessels, i.e. height, width, etc.\n",
    "    \"\"\"\n",
    "    \n",
    "\n",
    "\n",
    "t_d = 0.5\n",
    "v_sf = 29\n",
    "v_se = 31\n",
    "v_t = 8\n",
    "j_w = 11\n",
    "o = 1\n",
    "sg_s = 1.2\n",
    "sg_so = 2.2\n",
    "sg_f = 0.35\n",
    "l_d = 2_000\n",
    "s_u = 3\n",
    "den_w = 0.95\n",
    "h = 10_000\n",
    "b = 1.4\n",
    "d_nozzle = 11\n",
    "p_nozzle = 70\n",
    "q = 100"
   ]
  },
  {
   "cell_type": "markdown",
   "id": "bf387455",
   "metadata": {},
   "source": [
    "#### Calculating Trailing Suction Hopper Dredgers production parameters"
   ]
  },
  {
   "cell_type": "code",
   "execution_count": 81,
   "id": "cb45b0d6",
   "metadata": {},
   "outputs": [
    {
     "name": "stdout",
     "output_type": "stream",
     "text": [
      "The production of TSHD is 99.12733968288774 m^3/s\n"
     ]
    }
   ],
   "source": [
    "##The proportion of the hopper that is filled f_e is considered equal to the ratio of solids to the amount of slurry\n",
    "\n",
    "\"\"\"The proportion of hopper that is filled and the dredging cycle time is calculated according to Bray et al. (1997)\"\"\"\n",
    "\n",
    "f_e = (sg_s - sg_f) / (sg_s - sg_f)\n",
    "\n",
    "##Total dredging cycle time comprises of the time required for loading, sailing (empy, full), and discharging \n",
    "\n",
    "t_l = h / q\n",
    "    \n",
    "origin = (1.1930, 104.0918)\n",
    "destination = (1.2058, 104.1414)\n",
    "dist = geopy.distance.geodesic(origin, destination).km\n",
    "    \n",
    "t_sf = dist / v_sf\n",
    "    \n",
    "t_se = dist / v_se\n",
    "    \n",
    "prod_TSHD = (h * f_e) / (t_l + t_se + t_sf + t_d)\n",
    "    \n",
    "print('The production of TSHD is', prod_TSHD, 'm^3/s')"
   ]
  },
  {
   "cell_type": "markdown",
   "id": "567ca46c",
   "metadata": {},
   "source": [
    "#### Calculating Water Injection Dredgers production parameters"
   ]
  },
  {
   "cell_type": "code",
   "execution_count": 82,
   "id": "3118b728",
   "metadata": {},
   "outputs": [
    {
     "name": "stdout",
     "output_type": "stream",
     "text": [
      "The production of WID is 102019.29229317365 m^3/s\n"
     ]
    }
   ],
   "source": [
    "\"\"\"Penetration depth and production of WID is calculated based on (WID Handbook, 2020) and (Machin and Allan, 2011)\"\"\"\n",
    "    \n",
    "pen_d = 24 * d_nozzle * (p_nozzle **(1/2)) / (s_u **(1/2))\n",
    "    \n",
    "prod_WID = v_t * (j_w - o) * pen_d\n",
    "    \n",
    "print(\"The production of WID is\", prod_WID, 'm^3/s')"
   ]
  },
  {
   "cell_type": "code",
   "execution_count": null,
   "id": "d9b0fa0a",
   "metadata": {},
   "outputs": [],
   "source": []
  },
  {
   "cell_type": "code",
   "execution_count": null,
   "id": "115b9ece",
   "metadata": {},
   "outputs": [],
   "source": []
  }
 ],
 "metadata": {
  "kernelspec": {
   "display_name": "Python 3 (ipykernel)",
   "language": "python",
   "name": "python3"
  },
  "language_info": {
   "codemirror_mode": {
    "name": "ipython",
    "version": 3
   },
   "file_extension": ".py",
   "mimetype": "text/x-python",
   "name": "python",
   "nbconvert_exporter": "python",
   "pygments_lexer": "ipython3",
   "version": "3.9.13"
  }
 },
 "nbformat": 4,
 "nbformat_minor": 5
}
