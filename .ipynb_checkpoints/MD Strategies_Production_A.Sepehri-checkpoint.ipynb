{
 "cells": [
  {
   "cell_type": "markdown",
   "id": "5822b056",
   "metadata": {},
   "source": [
    "# Production of dredging vessels\n",
    "\n",
    "Trailing Suction Hopper Dredgers (TSHDs) and Water Injection Dredgers (WIDs) are the main vessels used for maintenance dredging in ports and waterways. The efficiency of reallocating/remobilizing sediments by these vessels can be measured by determining the production of these vessels which is the amount of dredged sediments per period of time.\n",
    "\n",
    "In this notebook, a basic simulation is set up to determine the production of TSHDs and WIDs in a simple network. Some properties such as the location of dredging and discharging are added to the project network along with vessel properties.\n",
    "\n",
    "The following steps are taken to conduct the simulation:\n",
    "\n",
    "* Import libraries\n",
    "* Initialise simpy environment\n",
    "* Define object classes\n",
    "* Create objects\n",
    "  * Create sites\n",
    "  * Create vessels\n",
    "  * Create activities\n",
    "* Register processes and run simpy"
   ]
  },
  {
   "cell_type": "markdown",
   "id": "dba7e963",
   "metadata": {},
   "source": [
    "### 0. Importing libraries\n",
    "It starts with importing libraries"
   ]
  },
  {
   "cell_type": "code",
   "execution_count": 30,
   "id": "55f3457b",
   "metadata": {
    "scrolled": true
   },
   "outputs": [
    {
     "data": {
      "text/html": [
       "        <script type=\"text/javascript\">\n",
       "        window.PlotlyConfig = {MathJaxConfig: 'local'};\n",
       "        if (window.MathJax && window.MathJax.Hub && window.MathJax.Hub.Config) {window.MathJax.Hub.Config({SVG: {font: \"STIX-Web\"}});}\n",
       "        if (typeof require !== 'undefined') {\n",
       "        require.undef(\"plotly\");\n",
       "        requirejs.config({\n",
       "            paths: {\n",
       "                'plotly': ['https://cdn.plot.ly/plotly-2.12.1.min']\n",
       "            }\n",
       "        });\n",
       "        require(['plotly'], function(Plotly) {\n",
       "            window._Plotly = Plotly;\n",
       "        });\n",
       "        }\n",
       "        </script>\n",
       "        "
      ]
     },
     "metadata": {},
     "output_type": "display_data"
    }
   ],
   "source": [
    "#packages related to time, space, and id\n",
    "import datetime, time\n",
    "import math\n",
    "import haversine as hs\n",
    "\n",
    "# package(s) related to the simulation (creating the vessel, running the simulation)\n",
    "import simpy\n",
    "import openclsim.core as core\n",
    "import openclsim.model as model\n",
    "import openclsim.plot as plot\n",
    "import openclsim.plugins as plugin\n",
    "\n",
    "# package(s) needed for inspecting the output\n",
    "import pandas as pd\n",
    "\n",
    "# package(s) needed for data handling\n",
    "import pandas as pd\n",
    "import numpy as np\n",
    "import matplotlib.pyplot as plt\n",
    "\n",
    "# package(s) used for creating and geo-locating the graph (spatial libraries)  \n",
    "import shapely.geometry\n",
    "from plotly.offline import init_notebook_mode, iplot\n",
    "import plotly.graph_objs as go\n",
    "\n",
    "init_notebook_mode(connected=True)"
   ]
  },
  {
   "cell_type": "markdown",
   "id": "75d6b9b8",
   "metadata": {},
   "source": [
    "### 1. Initialize simpy Environment"
   ]
  },
  {
   "cell_type": "code",
   "execution_count": 31,
   "id": "34cf6f2e",
   "metadata": {},
   "outputs": [],
   "source": [
    "# setup environment (simulation time needs to match the project starting time)\n",
    "simulation_start  = datetime.datetime(2022, 1, 1, 0, 0)\n",
    "my_env = simpy.Environment(initial_time=simulation_start.timestamp())"
   ]
  },
  {
   "cell_type": "markdown",
   "id": "26c1615f",
   "metadata": {},
   "source": [
    "### 2. Define Object classes"
   ]
  },
  {
   "cell_type": "code",
   "execution_count": 32,
   "id": "1263ef60",
   "metadata": {},
   "outputs": [],
   "source": [
    "# create a site object based on desired mixin classes\n",
    "Site = type(\n",
    "    \"Site\",\n",
    "    (\n",
    "        core.Identifiable,\n",
    "        core.Log,\n",
    "        core.Locatable,\n",
    "        core.HasContainer,\n",
    "        core.HasResource\n",
    "    ),\n",
    "    {})\n",
    "\n",
    "\n",
    "# create a TransportProcessingResource object based on desired mixin classes\n",
    "TransportProcessingResource = type(\n",
    "    \"TransportProcessingResource\",\n",
    "    (\n",
    "        core.Identifiable,\n",
    "        core.Log,\n",
    "        core.ContainerDependentMovable,\n",
    "        core.Processor,\n",
    "        core.HasResource,\n",
    "        core.LoadingFunction,\n",
    "        core.UnloadingFunction\n",
    "    ),\n",
    "    {})"
   ]
  },
  {
   "cell_type": "markdown",
   "id": "74a76724",
   "metadata": {},
   "source": [
    "### 3. Create Objects"
   ]
  },
  {
   "cell_type": "markdown",
   "id": "91a31481",
   "metadata": {},
   "source": [
    "#### 3.1. Create site objects"
   ]
  },
  {
   "cell_type": "code",
   "execution_count": 33,
   "id": "4fe740aa",
   "metadata": {},
   "outputs": [],
   "source": [
    "# prepare input data for from_site\n",
    "location_from_site = shapely.geometry.Point(1.1950, 104.1036)\n",
    "data_from_site = {\"env\": my_env,\n",
    "                  \"name\": \"from_site\",\n",
    "                  \"geometry\": location_from_site,\n",
    "                  \"capacity\": 10_000,\n",
    "                  \"level\": 10_000\n",
    "                 }\n",
    "# instantiate from_site \n",
    "from_site = Site(**data_from_site)\n",
    "\n",
    "# prepare input data for to_site\n",
    "location_to_site = shapely.geometry.Point(1.2131, 104.1434)\n",
    "data_to_site = {\"env\": my_env,\n",
    "                \"name\": \"to_site\",\n",
    "                \"geometry\": location_to_site,\n",
    "                \"capacity\": 10_000,\n",
    "                \"level\": 0\n",
    "               }\n",
    "# instantiate to_site \n",
    "to_site = Site(**data_to_site)"
   ]
  },
  {
   "cell_type": "markdown",
   "id": "84839ba6",
   "metadata": {},
   "source": [
    "#### 3.2. Create TSHD object(s)"
   ]
  },
  {
   "cell_type": "code",
   "execution_count": 39,
   "id": "1ca6f6f7",
   "metadata": {},
   "outputs": [],
   "source": [
    "# prepare input data for sagarmanthan (WID), ham311 (TSHD), and asia(TSHD)\n",
    "data_asia = {\"env\": my_env,\n",
    "                     \"name\": \"asia\",\n",
    "                     \"geometry\": location_from_site,\n",
    "                     \"loading_rate\": 1,\n",
    "                     \"unloading_rate\": 5,\n",
    "                     \"capacity\": 1000,\n",
    "                     \"compute_v\": lambda x: 16 + 2 * x}\n",
    "\n",
    "# instantiate asia\n",
    "asia = TransportProcessingResource(**data_asia)\n",
    "\n",
    "\n",
    "class VesselProperties:\n",
    "    \n",
    "    \"\"\"\n",
    "    type: can contain info on vessel type (avv class, cemt_class or other)\n",
    "    B: vessel width\n",
    "    L: vessel length\n",
    "    H_e: vessel height unloaded\n",
    "    H_f: vessel height loaded\n",
    "    T_e: draught unloaded\n",
    "    T_f: draught loaded\n",
    "\n",
    "    Add information on possible restrictions to the vessels, i.e. height, width, etc.\n",
    "    \"\"\"\n",
    "\n",
    "    def __init__(\n",
    "        self,\n",
    "        type,\n",
    "        B,\n",
    "        L,\n",
    "        H_e,\n",
    "        H_f,\n",
    "        T_e,\n",
    "        T_f,\n",
    "        *args,\n",
    "        **kwargs\n",
    "        ):\n",
    "        super().__init__(*args, **kwargs)\n",
    "\n",
    "        \"\"\"Initialization\"\"\"\n",
    "        self.type = type\n",
    "\n",
    "        self.B = B\n",
    "        self.L = L\n",
    "\n",
    "        self.H_e = H_e\n",
    "        self.H_f = H_e\n",
    "\n",
    "        self.T_e = T_e\n",
    "        self.T_f = T_f\n",
    "\n",
    "\n",
    "        \n",
    "    @property\n",
    "    def H(self):\n",
    "        \"\"\" Calculate current height based on filling degree \"\"\"\n",
    "\n",
    "        return (\n",
    "            self.filling_degree * (self.H_f - self.H_e)\n",
    "            + self.H_e\n",
    "        )\n",
    "\n",
    "    @property\n",
    "    def T(self):\n",
    "        \"\"\" Calculate current draught based on filling degree\n",
    "        \n",
    "        Here we should implement the rules from Van Dorsser et al \n",
    "        https://www.researchgate.net/publication/344340126_The_effect_of_low_water_on_loading_capacity_of_inland_ships\n",
    "        \"\"\"\n",
    "\n",
    "        return (\n",
    "            self.filling_degree * (self.T_f - self.T_e)\n",
    "            + self.T_e\n",
    "        )\n",
    "\n",
    "    def get_route(\n",
    "        self,\n",
    "        origin,\n",
    "        destination,\n",
    "        graph=None,\n",
    "        minWidth=None,\n",
    "        minHeight=None,\n",
    "        minDepth=None,\n",
    "        randomSeed=4,\n",
    "    ):\n",
    "        \"\"\" Calculate a path based on vessel restrictions \"\"\"\n",
    "\n",
    "        graph = graph if graph else self.env.FG\n",
    "        minWidth = minWidth if minWidth else 1.1 * self.B\n",
    "        minHeight = minWidth if minHeight else 1.1 * self.H\n",
    "        minDepth = minWidth if minDepth else 1.1 * self.T\n",
    "\n",
    "        # Check if information on restrictions is added to the edges\n",
    "        random.seed(randomSeed)\n",
    "        edge = random.choice(list(graph.edges(data=True)))\n",
    "        edge_attrs = list(edge[2].keys())\n",
    "\n",
    "        # IMPROVE THIS TO CHECK ALL EDGES AND COMBINATIONS OF RESTRICTIONS\n",
    "\n",
    "        if all(item in edge_attrs for item in [\"Width\", \"Height\", \"Depth\"]):\n",
    "            edges = []\n",
    "            nodes = []\n",
    "\n",
    "            for edge in graph.edges(data=True):\n",
    "                if (\n",
    "                    edge[2][\"Width\"] >= minWidth\n",
    "                    and edge[2][\"Height\"] >= minHeight\n",
    "                    and edge[2][\"Depth\"] >= minDepth\n",
    "                ):\n",
    "                    edges.append(edge)\n",
    "\n",
    "                    nodes.append(graph.nodes[edge[0]])\n",
    "                    nodes.append(graph.nodes[edge[1]])\n",
    "\n",
    "            subGraph = graph.__class__()\n",
    "\n",
    "            for node in nodes:\n",
    "                subGraph.add_node(\n",
    "                    node[\"name\"],\n",
    "                    name=node[\"name\"],\n",
    "                    geometry=node[\"geometry\"],\n",
    "                    position=(node[\"geometry\"].x, node[\"geometry\"].y),\n",
    "                )\n",
    "\n",
    "            for edge in edges:\n",
    "                subGraph.add_edge(edge[0], edge[1], attr_dict=edge[2])\n",
    "\n",
    "            try:\n",
    "                return nx.dijkstra_path(subGraph, origin, destination)\n",
    "                #return nx.bidirectional_dijkstra(subGraph, origin, destination)\n",
    "            except:\n",
    "                raise ValueError(\n",
    "                    \"No path was found with the given boundary conditions.\"\n",
    "                )\n",
    "\n",
    "        # If not, return shortest path\n",
    "        else:\n",
    "            return nx.dijkstra_path(graph, origin, destination)"
   ]
  },
  {
   "cell_type": "markdown",
   "id": "f06a99f7",
   "metadata": {},
   "source": [
    "#### 3.3. Create activity/activities"
   ]
  },
  {
   "cell_type": "code",
   "execution_count": 22,
   "id": "c17cd00a",
   "metadata": {},
   "outputs": [],
   "source": [
    "# initialise registry\n",
    "registry = {}"
   ]
  },
  {
   "cell_type": "code",
   "execution_count": 23,
   "id": "410dd406",
   "metadata": {},
   "outputs": [],
   "source": [
    "# create a list of the sub processes for HAM311\n",
    "sub_processes = [\n",
    "    model.BasicActivity(\n",
    "        env=my_env,\n",
    "        name=\"basic activity\",\n",
    "        registry=registry,\n",
    "        duration=0,\n",
    "        additional_logs=[ham311]\n",
    "    ),\n",
    "    model.BasicActivity(\n",
    "        env=my_env,\n",
    "        name=\"basic activity\",\n",
    "        registry=registry,\n",
    "        duration=0,\n",
    "        additional_logs=[asia],\n",
    "    )]\n",
    "        \n",
    "# create a 'sequential activity' that is made up of the 'sub_processes'\n",
    "sequential_activity = model.SequentialActivity(\n",
    "    env=my_env,\n",
    "    name=\"Sequential activity of basic activities\",\n",
    "    registry=registry,\n",
    "    sub_processes=sub_processes,\n",
    ")"
   ]
  },
  {
   "cell_type": "markdown",
   "id": "91522834",
   "metadata": {},
   "source": [
    "### 4. Register processes and run simpy"
   ]
  },
  {
   "cell_type": "code",
   "execution_count": 24,
   "id": "eb9415ce",
   "metadata": {},
   "outputs": [
    {
     "ename": "AssertionError",
     "evalue": "",
     "output_type": "error",
     "traceback": [
      "\u001b[1;31m---------------------------------------------------------------------------\u001b[0m",
      "\u001b[1;31mAssertionError\u001b[0m                            Traceback (most recent call last)",
      "\u001b[1;32m~\\AppData\\Local\\Temp\\ipykernel_3404\\183911151.py\u001b[0m in \u001b[0;36m<module>\u001b[1;34m\u001b[0m\n\u001b[0;32m      1\u001b[0m \u001b[1;31m# initate the simpy processes defined in the 'while activity' and run simpy\u001b[0m\u001b[1;33m\u001b[0m\u001b[1;33m\u001b[0m\u001b[0m\n\u001b[1;32m----> 2\u001b[1;33m \u001b[0mmodel\u001b[0m\u001b[1;33m.\u001b[0m\u001b[0mregister_processes\u001b[0m\u001b[1;33m(\u001b[0m\u001b[1;33m[\u001b[0m\u001b[0msequential_activity\u001b[0m\u001b[1;33m]\u001b[0m\u001b[1;33m)\u001b[0m\u001b[1;33m\u001b[0m\u001b[1;33m\u001b[0m\u001b[0m\n\u001b[0m\u001b[0;32m      3\u001b[0m \u001b[0mmy_env\u001b[0m\u001b[1;33m.\u001b[0m\u001b[0mrun\u001b[0m\u001b[1;33m(\u001b[0m\u001b[1;33m)\u001b[0m\u001b[1;33m\u001b[0m\u001b[1;33m\u001b[0m\u001b[0m\n",
      "\u001b[1;32m~\\github\\OpenCLSim\\src\\openclsim\\model\\helpers.py\u001b[0m in \u001b[0;36mregister_processes\u001b[1;34m(processes)\u001b[0m\n\u001b[0;32m     23\u001b[0m \u001b[1;33m\u001b[0m\u001b[0m\n\u001b[0;32m     24\u001b[0m     \u001b[0mitem_names\u001b[0m \u001b[1;33m=\u001b[0m \u001b[1;33m[\u001b[0m\u001b[0mi\u001b[0m\u001b[1;33m.\u001b[0m\u001b[0mname\u001b[0m \u001b[1;32mfor\u001b[0m \u001b[0mi\u001b[0m \u001b[1;32min\u001b[0m \u001b[0mitems\u001b[0m\u001b[1;33m]\u001b[0m\u001b[1;33m\u001b[0m\u001b[1;33m\u001b[0m\u001b[0m\n\u001b[1;32m---> 25\u001b[1;33m     \u001b[1;32massert\u001b[0m \u001b[0mlen\u001b[0m\u001b[1;33m(\u001b[0m\u001b[0mitem_names\u001b[0m\u001b[1;33m)\u001b[0m \u001b[1;33m==\u001b[0m \u001b[0mlen\u001b[0m\u001b[1;33m(\u001b[0m\u001b[0mset\u001b[0m\u001b[1;33m(\u001b[0m\u001b[0mitem_names\u001b[0m\u001b[1;33m)\u001b[0m\u001b[1;33m)\u001b[0m\u001b[1;33m\u001b[0m\u001b[1;33m\u001b[0m\u001b[0m\n\u001b[0m\u001b[0;32m     26\u001b[0m \u001b[1;33m\u001b[0m\u001b[0m\n\u001b[0;32m     27\u001b[0m     \u001b[1;32mfor\u001b[0m \u001b[0mitem\u001b[0m \u001b[1;32min\u001b[0m \u001b[0mitems\u001b[0m\u001b[1;33m:\u001b[0m\u001b[1;33m\u001b[0m\u001b[1;33m\u001b[0m\u001b[0m\n",
      "\u001b[1;31mAssertionError\u001b[0m: "
     ]
    }
   ],
   "source": [
    "# initate the simpy processes defined in the 'while activity' and run simpy\n",
    "model.register_processes([sequential_activity])\n",
    "my_env.run()"
   ]
  },
  {
   "cell_type": "markdown",
   "id": "e8a11c4b",
   "metadata": {},
   "source": [
    "### 5. Inspect Results"
   ]
  },
  {
   "cell_type": "markdown",
   "id": "1e2c775b",
   "metadata": {},
   "source": [
    "#### 5.1. Inspect logs\n",
    "The method plot.get_log_dataframe returns the log of an activity in the form of a dataframe. By adding other activities in a list as the second argument, the Activity can be made more human readable."
   ]
  },
  {
   "cell_type": "code",
   "execution_count": null,
   "id": "1291ecf2",
   "metadata": {
    "scrolled": true
   },
   "outputs": [],
   "source": [
    "display(plot.get_log_dataframe(reporting_activity, [*sub_processes, parallel_activity, reporting_activity]))"
   ]
  },
  {
   "cell_type": "markdown",
   "id": "2060586c",
   "metadata": {},
   "source": [
    "#### 5.2. Visualize Gantt Chart"
   ]
  },
  {
   "cell_type": "code",
   "execution_count": null,
   "id": "c4a56eb2",
   "metadata": {
    "scrolled": false
   },
   "outputs": [],
   "source": [
    "plot.get_gantt_chart([while_activity])"
   ]
  },
  {
   "cell_type": "code",
   "execution_count": null,
   "id": "33560354",
   "metadata": {},
   "outputs": [],
   "source": [
    "plot.get_gantt_chart([ham311, from_site, to_site],id_map=[while_activity])"
   ]
  },
  {
   "cell_type": "code",
   "execution_count": null,
   "id": "998fca86",
   "metadata": {},
   "outputs": [],
   "source": [
    "fig = plot.get_step_chart([ham311, from_site, to_site])"
   ]
  },
  {
   "cell_type": "markdown",
   "id": "0f8c41d2",
   "metadata": {},
   "source": [
    "### Production of Trailing Suction Hopper Dredger (TSHD) and Water Injection Dredgers (WID)\n",
    "\n",
    "#### Production of TSHD\n",
    "\n",
    "Production rate of trailing suction hopper dredgers (TSHDs) is a metric for calculating the amount of dredged sediments during a single dredging cycle. The higher the production rate of TSHDs, the less time will be spent for conducting the project. The production of TSHDs varies over time based on the sailing distance to discharging area, capacity of hopper, operational hours, and sediment characteristics.\n",
    "\n",
    "In this notebook, basic parameters related to vessel characteristics and the time required for loading, sailing (full and empty), and unloading are considered.\n",
    "\n",
    "#### Production of WID\n",
    "\n",
    "Production rate of water injection dredgers (WIDs) is a meteric for calculating the amount of sediments washed out from the water column during a single dredging cycle. The production of WIDs is mainly dependent on the penetration depth of the jet bar and the trailing velocity of vessel. Also, the width of jet bar is a determining factor in measuring the production. The overlap between two adjoining dredging tracks is subtracted from jet bar width to estimate the correct rate of production.\n",
    "\n",
    "In this notebook, basic parameters related to vessel characteristics are developed for calculating the production rate.\n",
    "\n",
    "It is assumed that the sediment to be dredged in the system mainly contains soft sediments which is the case for maintenance dredging. Also, the project is perfomed continuously in time. Therefore, the dredging cycle is continouos and the production rate is calculated for each dredging cycle which gives us an insight into comparing the production in different cycles."
   ]
  },
  {
   "cell_type": "code",
   "execution_count": 15,
   "id": "de5db936",
   "metadata": {},
   "outputs": [],
   "source": [
    "class Production:\n",
    "    \"\"\"\n",
    "    \n",
    "    Mixin class: These parameters are used to estimate the production of vessels (TSHD and WID)\n",
    "    type: can contain info on vessel type (TSHD or WID) [-]\n",
    "    \n",
    "    for TSHDs we have:\n",
    "    h: hopper capacity [m^3]\n",
    "    f_e: proportion of hopper that is filled [m^3]\n",
    "    b: bulking factor [-]\n",
    "    t_l: time required for loading [h]\n",
    "    t_se: time required for sailing empty [h]\n",
    "    t_sf: time required for sailing full [h]\n",
    "    t_d: time required for discharging [h]\n",
    "    t_tot: total time required for a single dredging cycle [h]\n",
    "    sg_s: specific gravity of slurry [m/s^2]\n",
    "    sg_so: specific gravity of solid [m/s^2]\n",
    "    sg_f: specific gravity of fluid [m/s^2]\n",
    "    dist: distance from dredging site to discharging site [km]\n",
    "    l_d: length of the dredging area [km]\n",
    "    v_se: velocity of vessel when sailing empty [knots]\n",
    "    v_sf: velocity of vessel when sailing full [knots]\n",
    "    prod_TSHD: total production of TSHD [m^3/h]\n",
    "    \n",
    "    for WIDs we have:\n",
    "    v_t: trailing velocity [m/s]\n",
    "    j_w: jet bar width [m]\n",
    "    o: overlap between two adjoining dredging tracks [m]\n",
    "    pen_d: penetration depth [m]\n",
    "    prod_WID: total production of WID [m^3/s]\n",
    "    s_u: undrained shear strength (kPa)\n",
    "    den_w: water density [Kg/m^3]\n",
    "    \n",
    "    Add information on possible restrictions to the vessels, i.e. height, width, etc.\n",
    "    \"\"\"\n",
    "    \n",
    "    def __init__(\n",
    "        self,\n",
    "        prod_TSHD,\n",
    "        prod_WID,\n",
    "        f_e,\n",
    "        pen_d,\n",
    "        dist,\n",
    "        t_l,\n",
    "        t_se,\n",
    "        t_sf,\n",
    "        t_d,\n",
    "        v_t = 8,\n",
    "        j_w = 11,\n",
    "        o = 1,\n",
    "        sg_s = 1.2,\n",
    "        sg_so = 2.2,\n",
    "        sg_f = 0.35,\n",
    "        l_d = 2_000,\n",
    "        s_u = 3,\n",
    "        den_w = 0.95,\n",
    "        h = 10_000,\n",
    "        b = 1.4,\n",
    "        d_nozzle = 11,\n",
    "        p_nozzle = 70,\n",
    "        *args, \n",
    "        **kwargs\n",
    "        ):\n",
    "        super().__init__(*args, **kwargs)\n",
    "\n",
    "        \n",
    "        \"\"\"Initialization\"\"\"\n",
    "        self.type_vessel = type_vessel\n",
    "        self.h = h\n",
    "        self.f_e = f_e \n",
    "        self.b = b \n",
    "        self.t_l = t_l\n",
    "        self.t_t = t_t\n",
    "        self.t_se = t_se\n",
    "        self.t_sf = t_sf\n",
    "        self.t_d = t_d\n",
    "        self.t_180 = t_180\n",
    "        self.t_tot = t_tot\n",
    "        self.n_t = n_t\n",
    "        self.v_t = v_t\n",
    "        self.j_w = j_w\n",
    "        self.o = o\n",
    "        self.pen_d = p_d\n",
    "        self.sg_s = sg_s\n",
    "        self.sg_so = sg_so\n",
    "        self.sg_f = sg_f\n",
    "        self.q = q\n",
    "        self.dist = dist\n",
    "        self.l_d = l_d\n",
    "        self.v_se = v_se\n",
    "        self.v_sf = v_sf\n",
    "        self.prod_TSHD = prod_TSHD\n",
    "        self.prod_WID = prod_WID\n",
    "        self.s_u = s_u\n",
    "        self.den_w = den_w"
   ]
  },
  {
   "cell_type": "markdown",
   "id": "bf387455",
   "metadata": {},
   "source": [
    "#### Calculating Trailing Suction Hopper Dredgers production parameters"
   ]
  },
  {
   "cell_type": "code",
   "execution_count": 28,
   "id": "cb45b0d6",
   "metadata": {},
   "outputs": [],
   "source": [
    "##The proportion of the hopper that is filled f_e is considered equal to the ratio of solids to the amount of slurry\n",
    "\n",
    "\"\"\"The proportion of hopper that is filled and the dredging cycle time is calculated according to Bray et al. (1997)\"\"\"\n",
    "\n",
    "def calculate_hopper_proportion(self):\n",
    "    \n",
    "    self.f_e = (self.sg_s - self.sg_f) / (self.sg_s - self.sg_f)\n",
    "\n",
    "##Total dredging cycle time comprises of the time required for loading, sailing (empy, full), and discharging \n",
    "\n",
    "def calculate_production_TSHD(self):\n",
    "    \n",
    "    self.calculate_hopper_proportion()\n",
    "    self.calculate_cycle_time_TSHD()\n",
    "    \n",
    "    self.prod_TSHD = (self.h * self.f_e) / (self.t_l + self.t_se + self.t_sf + self.t_d)\n",
    "    \n",
    "    print('The production of TSHD is', self.prod_TSHD, 'm^3/s')"
   ]
  },
  {
   "cell_type": "markdown",
   "id": "567ca46c",
   "metadata": {},
   "source": [
    "#### Calculating Water Injection Dredgers production parameters"
   ]
  },
  {
   "cell_type": "code",
   "execution_count": 29,
   "id": "3118b728",
   "metadata": {},
   "outputs": [],
   "source": [
    "\"\"\"Penetration depth and production of WID is calculated based on (WID Handbook, 2020) and (Machin and Allan, 2011)\"\"\"\n",
    "\n",
    "def calculate_penetration_depth(self):\n",
    "    \n",
    "    self.pen_d = 24 * self.d_nozzle * (self.p_nozzle ^(1/2)) / (self.s_u ^(1/2))\n",
    "\n",
    "def calculate_production_WID(self): \n",
    "    \n",
    "    self.prod_WID = self.v_t * (self.j_w - self.o) * self.pen_d\n",
    "    \n",
    "    print(\"The production of WID is\", self.prod_WID, 'm^3/s')"
   ]
  },
  {
   "cell_type": "code",
   "execution_count": null,
   "id": "6786cd0d",
   "metadata": {},
   "outputs": [],
   "source": []
  },
  {
   "cell_type": "code",
   "execution_count": null,
   "id": "d9b0fa0a",
   "metadata": {},
   "outputs": [],
   "source": []
  }
 ],
 "metadata": {
  "kernelspec": {
   "display_name": "Python 3 (ipykernel)",
   "language": "python",
   "name": "python3"
  },
  "language_info": {
   "codemirror_mode": {
    "name": "ipython",
    "version": 3
   },
   "file_extension": ".py",
   "mimetype": "text/x-python",
   "name": "python",
   "nbconvert_exporter": "python",
   "pygments_lexer": "ipython3",
   "version": "3.9.13"
  }
 },
 "nbformat": 4,
 "nbformat_minor": 5
}
